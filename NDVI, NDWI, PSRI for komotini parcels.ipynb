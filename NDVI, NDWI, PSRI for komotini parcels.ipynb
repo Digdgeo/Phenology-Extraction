{
 "cells": [
  {
   "cell_type": "code",
   "execution_count": 1,
   "metadata": {},
   "outputs": [],
   "source": [
    "import pandas as pd\n",
    "import numpy as np\n",
    "import matplotlib.pyplot as plt\n",
    "from datetime import datetime\n",
    "from scipy.signal import savgol_filter"
   ]
  },
  {
   "cell_type": "markdown",
   "metadata": {},
   "source": [
    "NDWI"
   ]
  },
  {
   "cell_type": "code",
   "execution_count": 2,
   "metadata": {},
   "outputs": [],
   "source": [
    "ndwi = pd.read_csv(\"C:/Users/antonkout/Documents/Work/antonkoutpersolnal/komotini/index/featurespace_object_NDWI.csv\", header=0)"
   ]
  },
  {
   "cell_type": "code",
   "execution_count": 3,
   "metadata": {},
   "outputs": [],
   "source": [
    "ndwi.columns.values[1:] = [1,6,16,26,31,36,66,71,86,91,96,111,116,121,136,141,146,151,156,161,166,171,176,181,186,191,\n",
    "                          196,201,206,211,216,221,226,231,236,241,246,251,256,261,266,271,281,291,306,314,316,336,341,361]\n",
    "obj_ids = ndwi.iloc[:,0]\n",
    "del ndwi['id']\n",
    "ndwi = ndwi.replace(-9999999, -999999)\n",
    "ndwi = ndwi.replace(np.nan, -999999)\n",
    "new_days = [\"2018-01-10\", \"2018-01-20\", \"2018-01-30\", \"2018-02-10\", \"2018-02-20\", \"2018-02-28\",\"2018-03-10\", \"2018-03-20\", \n",
    "            \"2018-03-30\", \"2018-04-10\", \"2018-04-20\", \"2018-04-30\", \"2018-05-10\", \"2018-05-20\", \"2018-05-30\", \"2018-06-10\", \n",
    "            \"2018-06-20\", \"2018-06-30\", \"2018-07-10\", \"2018-07-20\", \"2018-07-30\", \"2018-08-10\", \"2018-08-20\", \"2018-08-30\", \n",
    "            \"2018-09-10\", \"2018-09-20\", \"2018-09-30\", \"2018-10-10\", \"2018-10-20\", \"2018-10-30\", \"2018-11-10\", \"2018-11-20\",\n",
    "            \"2018-11-30\",\"2018-12-10\",\"2018-12-20\",\"2018-12-30\"]\n",
    "ndwi = ndwi.T\n",
    "ndwi.index.name = 'doys' #Create decadal dates to have a fixed timestep\n",
    "ndwi.reset_index(inplace=True)\n",
    "nd = list()\n",
    "for i in range(len(new_days)):\n",
    "    nd.append(datetime.strptime(new_days[i], '%Y-%m-%d').timetuple().tm_yday)\n",
    "ndwi=ndwi[1:ndwi.shape[0]]"
   ]
  },
  {
   "cell_type": "code",
   "execution_count": 4,
   "metadata": {},
   "outputs": [
    {
     "name": "stdout",
     "output_type": "stream",
     "text": [
      "--- Number of total outliers found: 15 ---\n"
     ]
    },
    {
     "name": "stderr",
     "output_type": "stream",
     "text": [
      "C:\\Users\\antonkout\\anaconda3\\envs\\e-shape\\lib\\site-packages\\numpy\\lib\\nanfunctions.py:1667: RuntimeWarning: Degrees of freedom <= 0 for slice.\n",
      "  keepdims=keepdims)\n",
      "C:\\Users\\antonkout\\anaconda3\\envs\\e-shape\\lib\\site-packages\\ipykernel_launcher.py:8: RuntimeWarning: Mean of empty slice\n",
      "  \n"
     ]
    }
   ],
   "source": [
    "ndwinn = ndwi.drop(['doys'], axis=1)\n",
    "ndwinn.index = ndwi.doys\n",
    "ndwinn = ndwinn.replace(-999999, np.nan)\n",
    "ndwinn = ndwinn.replace(-9999999, np.nan)\n",
    "l=np.zeros(shape=(ndwinn.shape[0],2))\n",
    "for i in range(ndwinn.shape[0]):\n",
    "    l[i,0] = np.nanstd(ndwinn.iloc[i,:])\n",
    "    l[i,1] = np.nanmean(ndwinn.iloc[i,:])\n",
    "l = pd.DataFrame(l)\n",
    "l.columns = ['std_l','mean_l']\n",
    "\n",
    "#Find 99.7 of the data that are within +- 3std\n",
    "l['lower_limit'] = (l.mean_l-3*l.std_l)\n",
    "l['upper_limit'] = (l.mean_l+3*l.std_l)\n",
    "l = pd.DataFrame(l)\n",
    "l.index = ndwinn.index\n",
    "outliers = []\n",
    "for i in range(ndwinn.shape[0]):\n",
    "    for j in range(ndwinn.shape[1]):\n",
    "        if((ndwinn.iloc[i,j]<l.iloc[i,2]) or (ndwinn.iloc[i,j]>l.iloc[i,3])):\n",
    "            outliers.append(ndwinn.iloc[i,j])\n",
    "            ndwinn.iloc[i,j] = np.nan\n",
    "print('--- Number of total outliers found: %s ---'%len(outliers))\n",
    "ndwinn.insert (0, 'doys', ndwinn.index)\n",
    "ndwinn.index = range(0,ndwinn.shape[0])\n",
    "ndwinn = ndwinn.replace(np.nan,-999999)\n",
    "ndwi = ndwinn.copy()"
   ]
  },
  {
   "cell_type": "code",
   "execution_count": 5,
   "metadata": {},
   "outputs": [],
   "source": [
    "ndwi = ndwi.replace(np.nan,-999999)\n",
    "#Weighted Average Interpolation, search +-5 days to find the reference days \n",
    "#from which the new dates will be created\n",
    "l = np.zeros(ndwi.shape[0])\n",
    "for i in range(ndwi.shape[0]):\n",
    "    for j in range(len(nd)):\n",
    "        x = ndwi.iloc[i,0]\n",
    "        y = nd[j]\n",
    "        if (abs(x-y) <= 5):\n",
    "            l[i] = y\n",
    "ndwi = pd.concat([pd.DataFrame(l),ndwi.reset_index(drop=True)], axis=1) #\n",
    "ndwi.columns.values[0] = 'ref'\n",
    "del new_days,nd\n",
    "colnames = ndwi.columns.values\n",
    "def interp_weight (df):\n",
    "    dfn = np.zeros(shape=(df.shape[0],df.shape[1]))    \n",
    "    #colnames = df.columns.values\n",
    "    i = 0\n",
    "    while (i <= (df.shape[0]-1)):\n",
    "        if (i == (df.shape[0]-1)):\n",
    "            dfn[i,:] = df[i,:] #When i becomes the last row then import the last row\n",
    "            i=i+1\n",
    "        elif (df[i,0] != df[i+1,0]):\n",
    "            dfn[i,:] = df[i,:] #If value of ref at i is different at value of ref at i+1 then import the i line \n",
    "            i=i+1        \n",
    "        else:\n",
    "            if (df[i,0] == df[i,1]): #If value of ref at i is equal to value of doys at the same line i then import i line\n",
    "                dfn[i,:] = df[i,:]\n",
    "                i=i+2\n",
    "            elif (df[i+1,0] == df[i+1,1]): #If value of ref at i+1 is equal to value of doys at the i+1 line import i+1 line \n",
    "                dfn[i,:] = df[i+1,:]\n",
    "                i=i+2\n",
    "            else:\n",
    "                diff = df[i+1,1] - df[i,1]\n",
    "                dist = abs(df[i,1] - df[i,0])\n",
    "                w = (diff-dist)/diff\n",
    "                df[i,:][df[i,:]==(-999999)] = df[i+1,:][df[i,:]==(-999999)]\n",
    "                df[i+1,:][df[i+1,]==(-999999)] = df[i,:][df[i+1,:]==(-999999)]\n",
    "                new_row = w*df[i,:] + (1-w)*df[i+1,] \n",
    "                dfn[i,:] = new_row\n",
    "                i = i + 2    \n",
    "    #dfn.columns = colnames\n",
    "    return pd.DataFrame(dfn)\n",
    "ndwi = np.array(ndwi)\n",
    "ndwi = interp_weight(ndwi)\n",
    "ndwi.columns = colnames\n",
    "ndwi = ndwi.replace(-999999.0000000001, np.nan)\n",
    "ndwi = ndwi.replace(-999999.0, np.nan)\n",
    "ndwi = ndwi.drop(['doys'], axis=1)\n",
    "del colnames\n",
    "d = list()\n",
    "for i in range(ndwi.shape[0]):\n",
    "    if (ndwi.iloc[i,0]==0):\n",
    "        d.append(i)      \n",
    "ndwi = ndwi.drop(d, axis=0)  \n",
    "del d\n",
    "ndwi = ndwi.drop(ndwi.index[16])\n",
    "ndwi.index = ndwi.ref\n",
    "ndwi = ndwi.drop(['ref'], axis=1)\n",
    "ndwin = ndwi.copy()"
   ]
  },
  {
   "cell_type": "code",
   "execution_count": 6,
   "metadata": {},
   "outputs": [],
   "source": [
    "polynomial = np.zeros(shape=ndwin.shape)\n",
    "obj_id = np.array(ndwin.columns)\n",
    "#Apply Polynomial Interpolation second order, replace timeseries with less than 3 values with nan to remove them afterwards\n",
    "time_with_less = []\n",
    "for i in range(ndwin.shape[1]):\n",
    "    if (len(ndwin.iloc[:,i].unique())>3):\n",
    "        pd.DataFrame(polynomial).iloc[:,i] = pd.DataFrame(np.array(ndwin.iloc[:,i]).flatten()).interpolate(method ='polynomial', order=2).ffill().bfill()\n",
    "    else:\n",
    "        time_with_less.append(ndwin.columns[i])\n",
    "        polynomial[:,i] = np.nan"
   ]
  },
  {
   "cell_type": "code",
   "execution_count": 7,
   "metadata": {},
   "outputs": [
    {
     "name": "stdout",
     "output_type": "stream",
     "text": [
      "Found 0 timeseries with less than 3 values\n",
      "--- Number of total outliers found: 5 ---\n"
     ]
    }
   ],
   "source": [
    "print('Found %s timeseries with less than 3 values' %len(time_with_less))\n",
    "polynomial = pd.DataFrame(polynomial)\n",
    "polynomial.index = ndwin.index\n",
    "###Apply again Outlier Detection with Normal Distribution\n",
    "l = np.zeros(shape=(polynomial.shape[0],2))\n",
    "for i in range(polynomial.shape[0]):\n",
    "    l[i,0] = np.nanstd(polynomial.iloc[i,:])\n",
    "    l[i,1] = np.nanmean(polynomial.iloc[i,:])\n",
    "l = pd.DataFrame(l)\n",
    "l.columns = ['std_l','mean_l']\n",
    "\n",
    "#Find 99.7 of the data that are within +- 3std\n",
    "l['lower_limit'] = (l.mean_l-3*l.std_l)\n",
    "l['upper_limit'] = (l.mean_l+3*l.std_l)\n",
    "l = pd.DataFrame(l)\n",
    "l.index = polynomial.index\n",
    "outliers = []\n",
    "for i in range(polynomial.shape[0]):\n",
    "    for j in range(polynomial.shape[1]):\n",
    "        if((polynomial.iloc[i,j]<l.iloc[i,2]) or (polynomial.iloc[i,j]>l.iloc[i,3])):\n",
    "            outliers.append(polynomial.iloc[i,j])\n",
    "            polynomial.iloc[i,j] = np.nan \n",
    "print('--- Number of total outliers found: %s ---'%len(outliers))"
   ]
  },
  {
   "cell_type": "code",
   "execution_count": 8,
   "metadata": {},
   "outputs": [
    {
     "name": "stdout",
     "output_type": "stream",
     "text": [
      "---Drop 0 from 45 timeseries with less than 3 values---\n"
     ]
    }
   ],
   "source": [
    "new_doys = list(range(0,365))\n",
    "old_doys = np.array(polynomial.index)\n",
    "new_doys = np.array(new_doys)\n",
    "ndwin = np.zeros(shape=(len(new_doys),polynomial.shape[1]))\n",
    "ndwin[ndwin == 0] = 'nan'\n",
    "\n",
    "for i in range(ndwin.shape[0]):\n",
    "    if (i in old_doys):\n",
    "        ndwin[i,:] = polynomial.loc[polynomial.index==i,:]\n",
    "#ndwin[:,0] = range(0,365)\n",
    "ndwin = pd.DataFrame(ndwin)\n",
    "#ndwin.columns = obj_id\n",
    "print('---Drop %s from %s timeseries with less than 3 values---' %(len(time_with_less) ,ndwin.shape[1]))\n",
    "\n",
    "#ids = np.setdiff1d(np.union1d(obj_id, time_with_less), np.intersect1d(obj_id, time_with_less))\n",
    "ndwin = ndwin.dropna(axis='columns', how='all')\n",
    "\n",
    "linear = np.zeros(shape=ndwin.shape)\n",
    "\n",
    "for i in range(ndwin.shape[1]):\n",
    "    linear[:,i] = ndwin.iloc[:,i].interpolate(method ='linear', axis=0).ffill().bfill()\n",
    "\n",
    "linear = pd.DataFrame(linear)\n",
    "linear.columns = ndwin.columns\n",
    "savitzky = np.zeros(shape=linear.shape)\n",
    "for i in range(savitzky.shape[1]):\n",
    "    savitzky[:,i] = savgol_filter(np.array(linear.iloc[0:,i]).reshape(linear.shape[0]),mode='nearest', \n",
    "                                  window_length = 51, polyorder = 4)\n",
    "savitzky = pd.DataFrame(savitzky)\n",
    "savitzky.index = range(0,savitzky.shape[0])"
   ]
  },
  {
   "cell_type": "code",
   "execution_count": 9,
   "metadata": {},
   "outputs": [],
   "source": [
    "ndwi = savitzky.copy()"
   ]
  },
  {
   "cell_type": "markdown",
   "metadata": {},
   "source": [
    "PSRI"
   ]
  },
  {
   "cell_type": "code",
   "execution_count": 10,
   "metadata": {},
   "outputs": [],
   "source": [
    "psri = pd.read_csv(\"C:/Users/antonkout/Documents/Work/antonkoutpersolnal/komotini/index/featurespace_object_PSRI.csv\", header=0)"
   ]
  },
  {
   "cell_type": "code",
   "execution_count": 11,
   "metadata": {},
   "outputs": [],
   "source": [
    "psri.columns.values[1:] = [1,6,16,26,31,36,66,71,86,91,96,111,116,121,136,141,146,151,156,161,166,171,176,181,186,191,\n",
    "                          196,201,206,211,216,221,226,231,236,241,246,251,256,261,266,271,281,291,306,314,316,336,341,361]\n",
    "obj_id = psri.iloc[:,0]\n",
    "del psri['id']\n",
    "psri = psri.replace(-9999999, -999999)\n",
    "psri = psri.replace(np.nan, -999999)\n",
    "new_days = [\"2018-01-10\", \"2018-01-20\", \"2018-01-30\", \"2018-02-10\", \"2018-02-20\", \"2018-02-28\",\"2018-03-10\", \"2018-03-20\", \n",
    "            \"2018-03-30\", \"2018-04-10\", \"2018-04-20\", \"2018-04-30\", \"2018-05-10\", \"2018-05-20\", \"2018-05-30\", \"2018-06-10\", \n",
    "            \"2018-06-20\", \"2018-06-30\", \"2018-07-10\", \"2018-07-20\", \"2018-07-30\", \"2018-08-10\", \"2018-08-20\", \"2018-08-30\", \n",
    "            \"2018-09-10\", \"2018-09-20\", \"2018-09-30\", \"2018-10-10\", \"2018-10-20\", \"2018-10-30\", \"2018-11-10\", \"2018-11-20\",\n",
    "            \"2018-11-30\",\"2018-12-10\",\"2018-12-20\",\"2018-12-30\"]\n",
    "psri = psri.T\n",
    "psri.index.name = 'doys' #Create decadal dates to have a fixed timestep\n",
    "psri.reset_index(inplace=True)\n",
    "nd = list()\n",
    "for i in range(len(new_days)):\n",
    "    nd.append(datetime.strptime(new_days[i], '%Y-%m-%d').timetuple().tm_yday)\n",
    "psri=psri[1:psri.shape[0]]"
   ]
  },
  {
   "cell_type": "code",
   "execution_count": 12,
   "metadata": {},
   "outputs": [
    {
     "name": "stdout",
     "output_type": "stream",
     "text": [
      "--- Number of total outliers found: 4 ---\n"
     ]
    },
    {
     "name": "stderr",
     "output_type": "stream",
     "text": [
      "C:\\Users\\antonkout\\anaconda3\\envs\\e-shape\\lib\\site-packages\\ipykernel_launcher.py:8: RuntimeWarning: Mean of empty slice\n",
      "  \n"
     ]
    }
   ],
   "source": [
    "psrinn = psri.drop(['doys'], axis=1)\n",
    "psrinn.index = psri.doys\n",
    "psrinn = psrinn.replace(-999999, np.nan)\n",
    "psrinn = psrinn.replace(-9999999, np.nan)\n",
    "l=np.zeros(shape=(psrinn.shape[0],2))\n",
    "for i in range(psrinn.shape[0]):\n",
    "    l[i,0] = np.nanstd(psrinn.iloc[i,:])\n",
    "    l[i,1] = np.nanmean(psrinn.iloc[i,:])\n",
    "l = pd.DataFrame(l)\n",
    "l.columns = ['std_l','mean_l']\n",
    "\n",
    "#Find 99.7 of the data that are within +- 3std\n",
    "l['lower_limit'] = (l.mean_l-3*l.std_l)\n",
    "l['upper_limit'] = (l.mean_l+3*l.std_l)\n",
    "l = pd.DataFrame(l)\n",
    "l.index = psrinn.index\n",
    "outliers = []\n",
    "for i in range(psrinn.shape[0]):\n",
    "    for j in range(psrinn.shape[1]):\n",
    "        if((psrinn.iloc[i,j]<l.iloc[i,2]) or (psrinn.iloc[i,j]>l.iloc[i,3])):\n",
    "            outliers.append(psrinn.iloc[i,j])\n",
    "            psrinn.iloc[i,j] = np.nan\n",
    "print('--- Number of total outliers found: %s ---'%len(outliers))\n",
    "psrinn.insert (0, 'doys', psrinn.index)\n",
    "psrinn.index = range(0,psrinn.shape[0])\n",
    "psrinn = psrinn.replace(np.nan,-999999)\n",
    "psri = psrinn.copy()"
   ]
  },
  {
   "cell_type": "code",
   "execution_count": 13,
   "metadata": {},
   "outputs": [],
   "source": [
    "psri = psri.replace(np.nan,-999999)\n",
    "#Weighted Average Interpolation, search +-5 days to find the reference days \n",
    "#from which the new dates will be created\n",
    "l = np.zeros(psri.shape[0])\n",
    "for i in range(psri.shape[0]):\n",
    "    for j in range(len(nd)):\n",
    "        x = psri.iloc[i,0]\n",
    "        y = nd[j]\n",
    "        if (abs(x-y) <= 5):\n",
    "            l[i] = y\n",
    "psri = pd.concat([pd.DataFrame(l),psri.reset_index(drop=True)], axis=1) #\n",
    "psri.columns.values[0] = 'ref'\n",
    "del new_days,nd\n",
    "colnames = psri.columns.values\n",
    "def interp_weight (df):\n",
    "    dfn = np.zeros(shape=(df.shape[0],df.shape[1]))    \n",
    "    #colnames = df.columns.values\n",
    "    i = 0\n",
    "    while (i <= (df.shape[0]-1)):\n",
    "        if (i == (df.shape[0]-1)):\n",
    "            dfn[i,:] = df[i,:] #When i becomes the last row then import the last row\n",
    "            i=i+1\n",
    "        elif (df[i,0] != df[i+1,0]):\n",
    "            dfn[i,:] = df[i,:] #If value of ref at i is different at value of ref at i+1 then import the i line \n",
    "            i=i+1        \n",
    "        else:\n",
    "            if (df[i,0] == df[i,1]): #If value of ref at i is equal to value of doys at the same line i then import i line\n",
    "                dfn[i,:] = df[i,:]\n",
    "                i=i+2\n",
    "            elif (df[i+1,0] == df[i+1,1]): #If value of ref at i+1 is equal to value of doys at the i+1 line import i+1 line \n",
    "                dfn[i,:] = df[i+1,:]\n",
    "                i=i+2\n",
    "            else:\n",
    "                diff = df[i+1,1] - df[i,1]\n",
    "                dist = abs(df[i,1] - df[i,0])\n",
    "                w = (diff-dist)/diff\n",
    "                df[i,:][df[i,:]==(-999999)] = df[i+1,:][df[i,:]==(-999999)]\n",
    "                df[i+1,:][df[i+1,]==(-999999)] = df[i,:][df[i+1,:]==(-999999)]\n",
    "                new_row = w*df[i,:] + (1-w)*df[i+1,] \n",
    "                dfn[i,:] = new_row\n",
    "                i = i + 2    \n",
    "    #dfn.columns = colnames\n",
    "    return pd.DataFrame(dfn)\n",
    "psri = np.array(psri)\n",
    "psri = interp_weight(psri)\n",
    "psri.columns = colnames\n",
    "psri = psri.replace(-999999.0000000001, np.nan)\n",
    "psri = psri.replace(-999999.0, np.nan)\n",
    "psri = psri.drop(['doys'], axis=1)\n",
    "del colnames\n",
    "d = list()\n",
    "for i in range(psri.shape[0]):\n",
    "    if (psri.iloc[i,0]==0):\n",
    "        d.append(i)      \n",
    "psri = psri.drop(d, axis=0)  \n",
    "del d\n",
    "psri = psri.drop(psri.index[16])\n",
    "psri.index = psri.ref\n",
    "psri = psri.drop(['ref'], axis=1)\n",
    "psrin = psri.copy()"
   ]
  },
  {
   "cell_type": "code",
   "execution_count": 14,
   "metadata": {},
   "outputs": [],
   "source": [
    "polynomial = np.zeros(shape=psrin.shape)\n",
    "obj_id = np.array(psrin.columns)\n",
    "#Apply Polynomial Interpolation second order, replace timeseries with less than 3 values with nan to remove them afterwards\n",
    "time_with_less = []\n",
    "for i in range(psrin.shape[1]):\n",
    "    if (len(psrin.iloc[:,i].unique())>3):\n",
    "        pd.DataFrame(polynomial).iloc[:,i] = pd.DataFrame(np.array(psrin.iloc[:,i]).flatten()).interpolate(method ='polynomial', order=2).ffill().bfill()\n",
    "    else:\n",
    "        time_with_less.append(psrin.columns[i])\n",
    "        polynomial[:,i] = np.nan"
   ]
  },
  {
   "cell_type": "code",
   "execution_count": 15,
   "metadata": {},
   "outputs": [
    {
     "name": "stdout",
     "output_type": "stream",
     "text": [
      "Found 0 timeseries with less than 3 values\n",
      "--- Number of total outliers found: 3 ---\n"
     ]
    }
   ],
   "source": [
    "print('Found %s timeseries with less than 3 values' %len(time_with_less))\n",
    "polynomial = pd.DataFrame(polynomial)\n",
    "polynomial.index = psrin.index\n",
    "###Apply again Outlier Detection with Normal Distribution\n",
    "l = np.zeros(shape=(polynomial.shape[0],2))\n",
    "for i in range(polynomial.shape[0]):\n",
    "    l[i,0] = np.nanstd(polynomial.iloc[i,:])\n",
    "    l[i,1] = np.nanmean(polynomial.iloc[i,:])\n",
    "l = pd.DataFrame(l)\n",
    "l.columns = ['std_l','mean_l']\n",
    "\n",
    "#Find 99.7 of the data that are within +- 3std\n",
    "l['lower_limit'] = (l.mean_l-3*l.std_l)\n",
    "l['upper_limit'] = (l.mean_l+3*l.std_l)\n",
    "l = pd.DataFrame(l)\n",
    "l.index = polynomial.index\n",
    "outliers = []\n",
    "for i in range(polynomial.shape[0]):\n",
    "    for j in range(polynomial.shape[1]):\n",
    "        if((polynomial.iloc[i,j]<l.iloc[i,2]) or (polynomial.iloc[i,j]>l.iloc[i,3])):\n",
    "            outliers.append(polynomial.iloc[i,j])\n",
    "            polynomial.iloc[i,j] = np.nan \n",
    "print('--- Number of total outliers found: %s ---'%len(outliers))"
   ]
  },
  {
   "cell_type": "code",
   "execution_count": 16,
   "metadata": {},
   "outputs": [
    {
     "name": "stdout",
     "output_type": "stream",
     "text": [
      "---Drop 0 from 45 timeseries with less than 3 values---\n"
     ]
    }
   ],
   "source": [
    "new_doys = list(range(0,365))\n",
    "old_doys = np.array(polynomial.index)\n",
    "new_doys = np.array(new_doys)\n",
    "psrin = np.zeros(shape=(len(new_doys),polynomial.shape[1]))\n",
    "psrin[psrin == 0] = 'nan'\n",
    "\n",
    "for i in range(psrin.shape[0]):\n",
    "    if (i in old_doys):\n",
    "        psrin[i,:] = polynomial.loc[polynomial.index==i,:]\n",
    "#psrin[:,0] = range(0,365)\n",
    "psrin = pd.DataFrame(psrin)\n",
    "#psrin.columns = obj_id\n",
    "print('---Drop %s from %s timeseries with less than 3 values---' %(len(time_with_less) ,psrin.shape[1]))\n",
    "\n",
    "#ids = np.setdiff1d(np.union1d(obj_id, time_with_less), np.intersect1d(obj_id, time_with_less))\n",
    "psrin = psrin.dropna(axis='columns', how='all')\n",
    "\n",
    "linear = np.zeros(shape=psrin.shape)\n",
    "\n",
    "for i in range(psrin.shape[1]):\n",
    "    linear[:,i] = psrin.iloc[:,i].interpolate(method ='linear', axis=0).ffill().bfill()\n",
    "\n",
    "linear = pd.DataFrame(linear)\n",
    "linear.columns = psrin.columns\n",
    "savitzky = np.zeros(shape=linear.shape)\n",
    "for i in range(savitzky.shape[1]):\n",
    "    savitzky[:,i] = savgol_filter(np.array(linear.iloc[0:,i]).reshape(linear.shape[0]),mode='nearest', \n",
    "                                  window_length = 51, polyorder = 4)\n",
    "savitzky = pd.DataFrame(savitzky)\n",
    "savitzky.index = range(0,savitzky.shape[0])"
   ]
  },
  {
   "cell_type": "code",
   "execution_count": 17,
   "metadata": {},
   "outputs": [],
   "source": [
    "psri = savitzky.copy()"
   ]
  },
  {
   "cell_type": "markdown",
   "metadata": {},
   "source": [
    "NDVI"
   ]
  },
  {
   "cell_type": "code",
   "execution_count": 18,
   "metadata": {},
   "outputs": [],
   "source": [
    "ndvi = pd.read_csv(\"C:/Users/antonkout/Documents/Work/antonkoutpersolnal/komotini/index/featurespace_object_NDVI.csv\", header=0)"
   ]
  },
  {
   "cell_type": "code",
   "execution_count": 19,
   "metadata": {},
   "outputs": [],
   "source": [
    "ndvi.columns.values[1:] = [1,6,16,26,31,36,66,71,86,91,96,111,116,121,136,141,146,151,156,161,166,171,176,181,186,191,\n",
    "                          196,201,206,211,216,221,226,231,236,241,246,251,256,261,266,271,281,291,306,314,316,336,341,361]\n",
    "obj_id = ndvi.iloc[:,0]\n",
    "del ndvi['id']\n",
    "ndvi = ndvi.replace(-9999999, -999999)\n",
    "ndvi = ndvi.replace(np.nan, -999999)\n",
    "new_days = [\"2018-01-10\", \"2018-01-20\", \"2018-01-30\", \"2018-02-10\", \"2018-02-20\", \"2018-02-28\",\"2018-03-10\", \"2018-03-20\", \n",
    "            \"2018-03-30\", \"2018-04-10\", \"2018-04-20\", \"2018-04-30\", \"2018-05-10\", \"2018-05-20\", \"2018-05-30\", \"2018-06-10\", \n",
    "            \"2018-06-20\", \"2018-06-30\", \"2018-07-10\", \"2018-07-20\", \"2018-07-30\", \"2018-08-10\", \"2018-08-20\", \"2018-08-30\", \n",
    "            \"2018-09-10\", \"2018-09-20\", \"2018-09-30\", \"2018-10-10\", \"2018-10-20\", \"2018-10-30\", \"2018-11-10\", \"2018-11-20\",\n",
    "            \"2018-11-30\",\"2018-12-10\",\"2018-12-20\",\"2018-12-30\"]\n",
    "ndvi = ndvi.T\n",
    "ndvi.index.name = 'doys' #Create decadal dates to have a fixed timestep\n",
    "ndvi.reset_index(inplace=True)\n",
    "nd = list()\n",
    "for i in range(len(new_days)):\n",
    "    nd.append(datetime.strptime(new_days[i], '%Y-%m-%d').timetuple().tm_yday)\n",
    "ndvi=ndvi[1:ndvi.shape[0]]"
   ]
  },
  {
   "cell_type": "code",
   "execution_count": 20,
   "metadata": {},
   "outputs": [
    {
     "name": "stdout",
     "output_type": "stream",
     "text": [
      "--- Number of total outliers found: 22 ---\n"
     ]
    },
    {
     "name": "stderr",
     "output_type": "stream",
     "text": [
      "C:\\Users\\antonkout\\anaconda3\\envs\\e-shape\\lib\\site-packages\\ipykernel_launcher.py:8: RuntimeWarning: Mean of empty slice\n",
      "  \n"
     ]
    }
   ],
   "source": [
    "ndvinn = ndvi.drop(['doys'], axis=1)\n",
    "ndvinn.index = ndvi.doys\n",
    "ndvinn = ndvinn.replace(-999999, np.nan)\n",
    "ndvinn = ndvinn.replace(-9999999, np.nan)\n",
    "l=np.zeros(shape=(ndvinn.shape[0],2))\n",
    "for i in range(ndvinn.shape[0]):\n",
    "    l[i,0] = np.nanstd(ndvinn.iloc[i,:])\n",
    "    l[i,1] = np.nanmean(ndvinn.iloc[i,:])\n",
    "l = pd.DataFrame(l)\n",
    "l.columns = ['std_l','mean_l']\n",
    "\n",
    "#Find 99.7 of the data that are within +- 3std\n",
    "l['lower_limit'] = (l.mean_l-3*l.std_l)\n",
    "l['upper_limit'] = (l.mean_l+3*l.std_l)\n",
    "l = pd.DataFrame(l)\n",
    "l.index = ndvinn.index\n",
    "outliers = []\n",
    "for i in range(ndvinn.shape[0]):\n",
    "    for j in range(ndvinn.shape[1]):\n",
    "        if((ndvinn.iloc[i,j]<l.iloc[i,2]) or (ndvinn.iloc[i,j]>l.iloc[i,3])):\n",
    "            outliers.append(ndvinn.iloc[i,j])\n",
    "            ndvinn.iloc[i,j] = np.nan\n",
    "print('--- Number of total outliers found: %s ---'%len(outliers))\n",
    "ndvinn.insert (0, 'doys', ndvinn.index)\n",
    "ndvinn.index = range(0,ndvinn.shape[0])\n",
    "ndvinn = ndvinn.replace(np.nan,-999999)\n",
    "ndvi = ndvinn.copy()"
   ]
  },
  {
   "cell_type": "code",
   "execution_count": 21,
   "metadata": {},
   "outputs": [],
   "source": [
    "ndvi = ndvi.replace(np.nan,-999999)\n",
    "#Weighted Average Interpolation, search +-5 days to find the reference days \n",
    "#from which the new dates will be created\n",
    "l = np.zeros(ndvi.shape[0])\n",
    "for i in range(ndvi.shape[0]):\n",
    "    for j in range(len(nd)):\n",
    "        x = ndvi.iloc[i,0]\n",
    "        y = nd[j]\n",
    "        if (abs(x-y) <= 5):\n",
    "            l[i] = y\n",
    "ndvi = pd.concat([pd.DataFrame(l),ndvi.reset_index(drop=True)], axis=1) #\n",
    "ndvi.columns.values[0] = 'ref'\n",
    "del new_days,nd\n",
    "colnames = ndvi.columns.values\n",
    "def interp_weight (df):\n",
    "    dfn = np.zeros(shape=(df.shape[0],df.shape[1]))    \n",
    "    #colnames = df.columns.values\n",
    "    i = 0\n",
    "    while (i <= (df.shape[0]-1)):\n",
    "        if (i == (df.shape[0]-1)):\n",
    "            dfn[i,:] = df[i,:] #When i becomes the last row then import the last row\n",
    "            i=i+1\n",
    "        elif (df[i,0] != df[i+1,0]):\n",
    "            dfn[i,:] = df[i,:] #If value of ref at i is different at value of ref at i+1 then import the i line \n",
    "            i=i+1        \n",
    "        else:\n",
    "            if (df[i,0] == df[i,1]): #If value of ref at i is equal to value of doys at the same line i then import i line\n",
    "                dfn[i,:] = df[i,:]\n",
    "                i=i+2\n",
    "            elif (df[i+1,0] == df[i+1,1]): #If value of ref at i+1 is equal to value of doys at the i+1 line import i+1 line \n",
    "                dfn[i,:] = df[i+1,:]\n",
    "                i=i+2\n",
    "            else:\n",
    "                diff = df[i+1,1] - df[i,1]\n",
    "                dist = abs(df[i,1] - df[i,0])\n",
    "                w = (diff-dist)/diff\n",
    "                df[i,:][df[i,:]==(-999999)] = df[i+1,:][df[i,:]==(-999999)]\n",
    "                df[i+1,:][df[i+1,]==(-999999)] = df[i,:][df[i+1,:]==(-999999)]\n",
    "                new_row = w*df[i,:] + (1-w)*df[i+1,] \n",
    "                dfn[i,:] = new_row\n",
    "                i = i + 2    \n",
    "    #dfn.columns = colnames\n",
    "    return pd.DataFrame(dfn)\n",
    "ndvi = np.array(ndvi)\n",
    "ndvi = interp_weight(ndvi)\n",
    "ndvi.columns = colnames\n",
    "ndvi = ndvi.replace(-999999.0000000001, np.nan)\n",
    "ndvi = ndvi.replace(-999999.0, np.nan)\n",
    "ndvi = ndvi.drop(['doys'], axis=1)\n",
    "del colnames\n",
    "d = list()\n",
    "for i in range(ndvi.shape[0]):\n",
    "    if (ndvi.iloc[i,0]==0):\n",
    "        d.append(i)      \n",
    "ndvi = ndvi.drop(d, axis=0)  \n",
    "del d\n",
    "ndvi = ndvi.drop(ndvi.index[16])\n",
    "ndvi.index = ndvi.ref\n",
    "ndvi = ndvi.drop(['ref'], axis=1)\n",
    "ndvin = ndvi.copy()"
   ]
  },
  {
   "cell_type": "code",
   "execution_count": 22,
   "metadata": {},
   "outputs": [],
   "source": [
    "polynomial = np.zeros(shape=ndvin.shape)\n",
    "obj_id = np.array(ndvin.columns)\n",
    "#Apply Polynomial Interpolation second order, replace timeseries with less than 3 values with nan to remove them afterwards\n",
    "time_with_less = []\n",
    "for i in range(ndvin.shape[1]):\n",
    "    if (len(ndvin.iloc[:,i].unique())>3):\n",
    "        pd.DataFrame(polynomial).iloc[:,i] = pd.DataFrame(np.array(ndvin.iloc[:,i]).flatten()).interpolate(method ='polynomial', order=2).ffill().bfill()\n",
    "    else:\n",
    "        time_with_less.append(ndvin.columns[i])\n",
    "        polynomial[:,i] = np.nan"
   ]
  },
  {
   "cell_type": "code",
   "execution_count": 23,
   "metadata": {},
   "outputs": [
    {
     "name": "stdout",
     "output_type": "stream",
     "text": [
      "Found 0 timeseries with less than 3 values\n",
      "--- Number of total outliers found: 14 ---\n"
     ]
    }
   ],
   "source": [
    "print('Found %s timeseries with less than 3 values' %len(time_with_less))\n",
    "polynomial = pd.DataFrame(polynomial)\n",
    "polynomial.index = ndvin.index\n",
    "###Apply again Outlier Detection with Normal Distribution\n",
    "l = np.zeros(shape=(polynomial.shape[0],2))\n",
    "for i in range(polynomial.shape[0]):\n",
    "    l[i,0] = np.nanstd(polynomial.iloc[i,:])\n",
    "    l[i,1] = np.nanmean(polynomial.iloc[i,:])\n",
    "l = pd.DataFrame(l)\n",
    "l.columns = ['std_l','mean_l']\n",
    "\n",
    "#Find 99.7 of the data that are within +- 3std\n",
    "l['lower_limit'] = (l.mean_l-3*l.std_l)\n",
    "l['upper_limit'] = (l.mean_l+3*l.std_l)\n",
    "l = pd.DataFrame(l)\n",
    "l.index = polynomial.index\n",
    "outliers = []\n",
    "for i in range(polynomial.shape[0]):\n",
    "    for j in range(polynomial.shape[1]):\n",
    "        if((polynomial.iloc[i,j]<l.iloc[i,2]) or (polynomial.iloc[i,j]>l.iloc[i,3])):\n",
    "            outliers.append(polynomial.iloc[i,j])\n",
    "            polynomial.iloc[i,j] = np.nan \n",
    "print('--- Number of total outliers found: %s ---'%len(outliers))"
   ]
  },
  {
   "cell_type": "code",
   "execution_count": 24,
   "metadata": {},
   "outputs": [
    {
     "name": "stdout",
     "output_type": "stream",
     "text": [
      "---Drop 0 from 45 timeseries with less than 3 values---\n"
     ]
    }
   ],
   "source": [
    "new_doys = list(range(0,365))\n",
    "old_doys = np.array(polynomial.index)\n",
    "new_doys = np.array(new_doys)\n",
    "ndvin = np.zeros(shape=(len(new_doys),polynomial.shape[1]))\n",
    "ndvin[ndvin == 0] = 'nan'\n",
    "\n",
    "for i in range(ndvin.shape[0]):\n",
    "    if (i in old_doys):\n",
    "        ndvin[i,:] = polynomial.loc[polynomial.index==i,:]\n",
    "#ndvin[:,0] = range(0,365)\n",
    "ndvin = pd.DataFrame(ndvin)\n",
    "#ndvin.columns = obj_id\n",
    "print('---Drop %s from %s timeseries with less than 3 values---' %(len(time_with_less) ,ndvin.shape[1]))\n",
    "\n",
    "#ids = np.setdiff1d(np.union1d(obj_id, time_with_less), np.intersect1d(obj_id, time_with_less))\n",
    "ndvin = ndvin.dropna(axis='columns', how='all')\n",
    "\n",
    "linear = np.zeros(shape=ndvin.shape)\n",
    "\n",
    "for i in range(ndvin.shape[1]):\n",
    "    linear[:,i] = ndvin.iloc[:,i].interpolate(method ='linear', axis=0).ffill().bfill()\n",
    "\n",
    "linear = pd.DataFrame(linear)\n",
    "linear.columns = ndvin.columns\n",
    "savitzky = np.zeros(shape=linear.shape)\n",
    "for i in range(savitzky.shape[1]):\n",
    "    savitzky[:,i] = savgol_filter(np.array(linear.iloc[0:,i]).reshape(linear.shape[0]),mode='nearest', \n",
    "                                  window_length = 51, polyorder = 4)\n",
    "savitzky = pd.DataFrame(savitzky)\n",
    "savitzky.index = range(0,savitzky.shape[0])"
   ]
  },
  {
   "cell_type": "code",
   "execution_count": 25,
   "metadata": {},
   "outputs": [],
   "source": [
    "ndvi = savitzky.copy()"
   ]
  },
  {
   "cell_type": "code",
   "execution_count": 26,
   "metadata": {},
   "outputs": [],
   "source": [
    "ndvi.columns = np.array(obj_ids)\n",
    "ndwi.columns = np.array(obj_ids)\n",
    "psri.columns = np.array(obj_ids)"
   ]
  },
  {
   "cell_type": "markdown",
   "metadata": {},
   "source": [
    "Validation"
   ]
  },
  {
   "cell_type": "code",
   "execution_count": 27,
   "metadata": {},
   "outputs": [],
   "source": [
    "validation = pd.read_csv(\"C:/Users/antonkout/Documents/Work/antonkoutpersolnal/komotinivalidation.csv\", header=0)\n",
    "validation['Length'] = validation['Harvest DOY'] - validation['Seeding DOY']\n",
    "validation.columns = ['parcelid','area','seeding','emergence','harvest','length']\n",
    "validation.index = np.array(validation['parcelid'])\n",
    "del validation['parcelid']"
   ]
  },
  {
   "cell_type": "code",
   "execution_count": 28,
   "metadata": {},
   "outputs": [],
   "source": [
    "ndwi.index = np.array(range(0,365))\n",
    "psri.index = np.array(range(0,365))"
   ]
  },
  {
   "cell_type": "code",
   "execution_count": 41,
   "metadata": {
    "scrolled": false
   },
   "outputs": [
    {
     "data": {
      "image/png": "[encoded data removed]",
      "text/plain": [
       "<Figure size 800x640 with 1 Axes>"
      ]
     },
     "metadata": {},
     "output_type": "display_data"
    }
   ],
   "source": [
    "a=ndvi.columns[10]\n",
    "plt.figure(num=None, figsize=(10,8), dpi=80, facecolor='w', edgecolor='k')\n",
    "ndwi.loc[:,a].plot(label='NDWI')\n",
    "psri.loc[:,a].plot(label='PSRI')\n",
    "ndvi.loc[:,a].plot(label='NDVI')\n",
    "\n",
    "plt.plot(validation.loc[a,:].seeding, np.array(ndvi.loc[ndvi.index == validation.loc[a,:].seeding,a])[0], marker='o', color='red')\n",
    "plt.text(validation.loc[a,:].seeding+8,np.array(ndvi.loc[ndvi.index == validation.loc[a,:].seeding,a])[0]+30,'Seeding',fontsize=12)\n",
    "\n",
    "plt.plot(validation.loc[a,:].harvest, np.array(ndvi.loc[ndvi.index == validation.loc[a,:].harvest,a])[0], marker='o', color='red')\n",
    "plt.text(validation.loc[a,:].harvest+8,np.array(ndvi.loc[ndvi.index == validation.loc[a,:].harvest,a])[0]+30,'Harvest',fontsize=12)\n",
    "\n",
    "\n",
    "plt.axvline(validation.loc[a,:].seeding, color='brown', linestyle='--', label='Planting')\n",
    "plt.axvline(validation.loc[a,:].harvest, color='red', linestyle='--', label='Harvest')\n",
    "plt.xlabel('Day of Year',fontsize=12)\n",
    "plt.ylabel('EO Index Values',fontsize=12)\n",
    "plt.legend(fontsize = 12)\n",
    "plt.grid()\n",
    "plt.savefig('indices_validation.png', dpi=100)"
   ]
  },
  {
   "cell_type": "code",
   "execution_count": 31,
   "metadata": {},
   "outputs": [],
   "source": [
    "l=list()\n",
    "for i in range(1,ndwi.shape[0]+1):\n",
    "    l.append('NDWI_DOY%s'%i)\n",
    "ndwi.index = np.asarray(l)"
   ]
  },
  {
   "cell_type": "code",
   "execution_count": 30,
   "metadata": {},
   "outputs": [],
   "source": [
    "l=list()\n",
    "for i in range(1,psri.shape[0]+1):\n",
    "    l.append('PSRI_DOY%s'%i)\n",
    "psri.index = np.asarray(l)"
   ]
  },
  {
   "cell_type": "code",
   "execution_count": 31,
   "metadata": {},
   "outputs": [],
   "source": [
    "data_ndwi_psri = pd.concat([ndwi.T,psri.T],axis=1)\n",
    "data_ndwi_psri.to_csv('C:/Users/antonkout/Documents/Work/antonkoutpersolnal/data_ndwi_psri.csv')"
   ]
  },
  {
   "cell_type": "code",
   "execution_count": null,
   "metadata": {},
   "outputs": [],
   "source": []
  }
 ],
 "metadata": {
  "kernelspec": {
   "display_name": "Python 3",
   "language": "python",
   "name": "python3"
  },
  "language_info": {
   "codemirror_mode": {
    "name": "ipython",
    "version": 3
   },
   "file_extension": ".py",
   "mimetype": "text/x-python",
   "name": "python",
   "nbconvert_exporter": "python",
   "pygments_lexer": "ipython3",
   "version": "3.6.10"
  }
 },
 "nbformat": 4,
 "nbformat_minor": 4
}
