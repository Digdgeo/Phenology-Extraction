{
 "cells": [
  {
   "cell_type": "code",
   "execution_count": 144,
   "metadata": {},
   "outputs": [],
   "source": [
    "library(rJava)\n",
    "library (CropPhenology)\n",
    "library(data.table)\n",
    "library(rTIMESAT)\n",
    "library(magrittr)\n",
    "library(ggplot2)"
   ]
  },
  {
   "cell_type": "code",
   "execution_count": 154,
   "metadata": {},
   "outputs": [],
   "source": [
    "path <- \"C:/Users/User/Documents/NOA_e-shape/Korea-Data_Thanassis/wetransfer-09e80a\"\n",
    "setwd(path)"
   ]
  },
  {
   "cell_type": "markdown",
   "metadata": {},
   "source": [
    "TIMESAT package is used for extracting seasonality parameters. TIMESAT smooths each of the time-series in a defined area and extracts seasonality data such as start and end of the season or the length of the season.\n",
    "\n",
    "TIMESAT need as input the number of seasons and their approximate timing. It uses three smothing methods:\n",
    "i) Savitzky-Golay\n",
    "ii) Least Squares - Assymetric Gaussians\n",
    "iii) Double Logistic functions"
   ]
  },
  {
   "cell_type": "code",
   "execution_count": 155,
   "metadata": {},
   "outputs": [],
   "source": [
    "TSF_main <- function(d, nptperyear = 25, cache = F){\n",
    "  \n",
    "  ## 1. Prepare inputs\n",
    "  sitename <- \"maria1\"\n",
    "  nyear <- floor(nrow(d)/nptperyear)\n",
    "  npt   <- nyear * nptperyear\n",
    "  \n",
    "  # pls make sure it's complete year in input\n",
    "  file_y   <- sprintf(\"TSM_%s_y.txt\", sitename)\n",
    "  file_w   <- sprintf(\"TSM_%s_w.txt\", sitename)\n",
    "  file_set <- sprintf(\"TSM_%s.set\", sitename)\n",
    "  \n",
    "  write_input(d$NDVI  , file_y, nptperyear)\n",
    "  write_input(rep(1,nrow(d)) %>% as.numeric(), file_w, nptperyear)\n",
    "  \n",
    "  ## 2. Update options\n",
    "  options <- list(\n",
    "    job_name            = \"\",\n",
    "    file_y              = file_y,             # Data file list/name\n",
    "    file_w              = file_w,             # Mask file list/name\n",
    "    nyear_and_nptperear = c(nyear, nptperyear),      # No. years and no. points per year\n",
    "    ylu                 = c(-9999, 9999),     # Valid data range (lower upper)\n",
    "    \n",
    "  ## In TIMESAT cloud classifications and other ancillary data may be used to assign weights to the values in the timeseries series.\n",
    "  ## There are no general rules for converting ancillary data to weights associated with the values in the timeseries.    \n",
    "    has_QC              = 0,              # 1 = use quality data, 0 = do not use quality data. \n",
    "    qc_1                = c(0, 0, 1),     # Quality range 1 and weight\n",
    "    qc_2                = c(1, 1, 0.5),   # Quality range 2 and weight\n",
    "    qc_3                = c(2, 3, 0.2),   # Quality range 3 and weight\n",
    "      \n",
    "  ## Amplitude cuttoff: Minimum Vegetation Index values' range (Works as a threshold)  \n",
    "    A                   = 0.1,            # Amplitude cutoff value\n",
    "    output_type         = c(1, 1, 0),     # Output files (1/0 1/0 1/0), 1: seasonality data; 2: smoothed time-series; 3: original time-series\n",
    "    \n",
    "    spike_meth          = 0,              # (0/1/2/3): (no spike detection/method based on median filtering/weights from STL-decomposition/weights from STL-decomposition).\n",
    "    spike_sd            = 1,              # Numeric, data values that differ from the median value by more than the spike_sd multiplied with the standard deviation of y and that are different from the left and right neighbors are removed (assigned weight 0).      \n",
    "    seasonpar           = 1.0,            # Seasonality parameter (0-1)\n",
    "  \n",
    "  ## No. of envelope iter: How many times fitted function will be applied. Setting 2 or 3 the fit will decrease the weights of the low data \n",
    "  ## values, one to two times respectivelly.    \n",
    "    iters               = 1,              # No. of envelope iterations (3/2/1)\n",
    "    adapt               = 1,              # Adaptation strength. The adaptation strength is a number between 1 and 10 indicating the strength of the upper envelope adaptation.\n",
    "    FUN                 = 1,              # Fitting method (1/2/3): (Savitzky-Golay / Asymmetric Gaussians / Double logistic Functions)\n",
    "    half_win            = 4,              # half Window size for Sav-Gol. In case of Asym.Gaus. or Double.Logist will not be taken into account.\n",
    "    meth_pheno          = 1,              # (1: seasonal amplitude, 2: absolute value, 3: relative amplitude, 4: STL trend)\n",
    "    trs                 = c(0.5, 0.5)     # Season start / end values\n",
    "  )\n",
    "  \n",
    "  options$job_name <- sitename\n",
    "  \n",
    "  opt <- update_setting(options)\n",
    "  write_setting(opt, file_set)\n",
    "  \n",
    "  TSF_process(file_set) # call TSF_process.exe\n",
    "  \n",
    "  file_tts <- sprintf(\"%s_fit.tts\", opt$job_name)\n",
    "  file_tpa <- sprintf(\"%s_TS.tpa\", opt$job_name)\n",
    "  \n",
    "  # note: only suit for ascii\n",
    "  tidy_tts <- function(d_tts){\n",
    "    sites <- d_tts$row %>% paste0(\"v\", .)\n",
    "    npt   <- ncol(d_tts) - 2\n",
    "    d <- d_tts %>% {.[, 3:ncol(.)]} %>% as.matrix() %>% t() %>% data.frame() %>%\n",
    "      set_colnames(sites) %>% cbind(t = 1:npt, .)\n",
    "    d\n",
    "  }\n",
    "  \n",
    "  d_tts <- read_tts(file_tts) %>% tidy_tts()\n",
    "  d_tpa <- read_tpa(file_tpa)\n",
    "  \n",
    "  if (!cache){\n",
    "    status1 <- file.remove(c(file_tts, file_tpa, file_y, file_w, file_set))\n",
    "    status2 <- dir(\".\", \"*.ndx\", full.names = T) %>% file.remove()\n",
    "  }\n",
    "  list(fit = d_tts, pheno = d_tpa)\n",
    "}"
   ]
  },
  {
   "cell_type": "markdown",
   "metadata": {},
   "source": [
    "Phenological Parameters in TimeSat:\n",
    "1. Time for the start of the season; time for which the left has increased to a user defined level (often 20%) measured from the left min.\n",
    "2. Time for the end; time for which the right edge has decreased to a user defined from the right minimum.\n",
    "3. Length of the period; time from start to end\n",
    "4. Base level; given as the average of the left and right min values\n",
    "5. Time for the mid of the season; computed as the mean value of the times for which respectively, the left edge has increased to 80% level and the right edge has decreased to the 80% level.\n",
    "6. Largest data value for the fitted function during season\n",
    "7. Seasonal amplitude; difference between the maximal value and the base level\n",
    "8. Rate of increase at the beginning of the season; calculated as the ration between the values evaluated at the season start and at the left 80% level divided by the correct time difference\n",
    "9. Rate of decrease at the end of the season; at the season end at the right 80% level divided by corr. time\n",
    "10. Large Seasonal integral.\n",
    "11. Small Seasonal integral."
   ]
  },
  {
   "cell_type": "code",
   "execution_count": 1,
   "metadata": {},
   "outputs": [
    {
     "ename": "ERROR",
     "evalue": "Error in fread(pathtofile, header = F): could not find function \"fread\"\n",
     "output_type": "error",
     "traceback": [
      "Error in fread(pathtofile, header = F): could not find function \"fread\"\nTraceback:\n",
      "1. as.data.frame(fread(pathtofile, header = F))"
     ]
    }
   ],
   "source": [
    "pathtofile <- \"C:/Users/User/Documents/NOA_e-shape/Korea-Data_Thanassis/wetransfer-09e80a/interpolated_df_nn_fulltime.csv\" \n",
    "rice <- as.data.frame(fread(pathtofile, header=F))\n",
    "colnames(rice) <- rice[1,]\n",
    "rice <- rice[-1,]\n",
    "rice <- rbind(rice,rice)\n",
    "rice <- rice[-1]"
   ]
  },
  {
   "cell_type": "markdown",
   "metadata": {},
   "source": [
    "TIMESAT needs as input timeseries per year and large amplitude, many decades. If dataset has timeseries only for one year, then dubplicate or triplecate it to work. "
   ]
  },
  {
   "cell_type": "code",
   "execution_count": 157,
   "metadata": {},
   "outputs": [
    {
     "data": {
      "text/html": [
       "<table>\n",
       "<caption>A data.frame: 10 × 10</caption>\n",
       "<thead>\n",
       "\t<tr><th></th><th scope=col>2019-03-10</th><th scope=col>2019-03-20</th><th scope=col>2019-03-30</th><th scope=col>2019-04-10</th><th scope=col>2019-04-20</th><th scope=col>2019-04-30</th><th scope=col>2019-05-10</th><th scope=col>2019-05-20</th><th scope=col>2019-05-30</th><th scope=col>2019-06-10</th></tr>\n",
       "\t<tr><th></th><th scope=col>&lt;chr&gt;</th><th scope=col>&lt;chr&gt;</th><th scope=col>&lt;chr&gt;</th><th scope=col>&lt;chr&gt;</th><th scope=col>&lt;chr&gt;</th><th scope=col>&lt;chr&gt;</th><th scope=col>&lt;chr&gt;</th><th scope=col>&lt;chr&gt;</th><th scope=col>&lt;chr&gt;</th><th scope=col>&lt;chr&gt;</th></tr>\n",
       "</thead>\n",
       "<tbody>\n",
       "\t<tr><th scope=row>2</th><td>221.4937 </td><td>158.4921 </td><td>139.9091 </td><td>155.7404 </td><td>189.4430 </td><td>213.8895 </td><td>185.0671 </td><td>211.3226 </td><td>371.2179 </td><td>517.6092 </td></tr>\n",
       "\t<tr><th scope=row>3</th><td>212.82404</td><td>109.53846</td><td> 88.59296</td><td>124.17668</td><td>176.65710</td><td>197.20308</td><td>113.33114</td><td> 55.83492</td><td>147.71278</td><td>302.41820</td></tr>\n",
       "\t<tr><th scope=row>4</th><td>238.39798</td><td>136.69881</td><td>118.08474</td><td>155.66540</td><td>208.14684</td><td>221.17180</td><td>111.27477</td><td> 45.71994</td><td>168.12143</td><td>320.75305</td></tr>\n",
       "\t<tr><th scope=row>5</th><td>201.5028 </td><td>116.9077 </td><td>107.5394 </td><td>149.6917 </td><td>204.4011 </td><td>224.7080 </td><td>138.3899 </td><td> 83.5635 </td><td>184.4179 </td><td>330.6723 </td></tr>\n",
       "\t<tr><th scope=row>6</th><td>180.7478 </td><td>171.6532 </td><td>173.4408 </td><td>181.2109 </td><td>187.4011 </td><td>178.5188 </td><td>130.8964 </td><td>108.1516 </td><td>170.6409 </td><td>292.4629 </td></tr>\n",
       "\t<tr><th scope=row>7</th><td>189.6896 </td><td>119.4432 </td><td>108.3780 </td><td>139.2420 </td><td>183.4065 </td><td>218.3921 </td><td>217.4083 </td><td>180.7077 </td><td>143.0232 </td><td>221.6167 </td></tr>\n",
       "\t<tr><th scope=row>8</th><td>182.7741 </td><td>156.0872 </td><td>152.5695 </td><td>164.8150 </td><td>180.9197 </td><td>186.9277 </td><td>161.8629 </td><td>143.2156 </td><td>177.3407 </td><td>286.8962 </td></tr>\n",
       "\t<tr><th scope=row>9</th><td>236.78650</td><td>210.72689</td><td>191.10183</td><td>172.98125</td><td>156.05531</td><td>127.90696</td><td> 69.41510</td><td> 38.07293</td><td> 97.67516</td><td>264.65884</td></tr>\n",
       "\t<tr><th scope=row>10</th><td>231.91905</td><td>205.93345</td><td>193.96003</td><td>188.19285</td><td>181.69823</td><td>154.27718</td><td> 72.52431</td><td> 29.35146</td><td>110.81448</td><td>268.95438</td></tr>\n",
       "\t<tr><th scope=row>11</th><td>190.51706</td><td> 90.42965</td><td> 76.21068</td><td>120.23456</td><td>178.57579</td><td>199.66238</td><td>106.39157</td><td> 35.00954</td><td>118.50332</td><td>283.91652</td></tr>\n",
       "</tbody>\n",
       "</table>\n"
      ],
      "text/latex": [
       "A data.frame: 10 × 10\n",
       "\\begin{tabular}{r|llllllllll}\n",
       "  & 2019-03-10 & 2019-03-20 & 2019-03-30 & 2019-04-10 & 2019-04-20 & 2019-04-30 & 2019-05-10 & 2019-05-20 & 2019-05-30 & 2019-06-10\\\\\n",
       "  & <chr> & <chr> & <chr> & <chr> & <chr> & <chr> & <chr> & <chr> & <chr> & <chr>\\\\\n",
       "\\hline\n",
       "\t2 & 221.4937  & 158.4921  & 139.9091  & 155.7404  & 189.4430  & 213.8895  & 185.0671  & 211.3226  & 371.2179  & 517.6092 \\\\\n",
       "\t3 & 212.82404 & 109.53846 &  88.59296 & 124.17668 & 176.65710 & 197.20308 & 113.33114 &  55.83492 & 147.71278 & 302.41820\\\\\n",
       "\t4 & 238.39798 & 136.69881 & 118.08474 & 155.66540 & 208.14684 & 221.17180 & 111.27477 &  45.71994 & 168.12143 & 320.75305\\\\\n",
       "\t5 & 201.5028  & 116.9077  & 107.5394  & 149.6917  & 204.4011  & 224.7080  & 138.3899  &  83.5635  & 184.4179  & 330.6723 \\\\\n",
       "\t6 & 180.7478  & 171.6532  & 173.4408  & 181.2109  & 187.4011  & 178.5188  & 130.8964  & 108.1516  & 170.6409  & 292.4629 \\\\\n",
       "\t7 & 189.6896  & 119.4432  & 108.3780  & 139.2420  & 183.4065  & 218.3921  & 217.4083  & 180.7077  & 143.0232  & 221.6167 \\\\\n",
       "\t8 & 182.7741  & 156.0872  & 152.5695  & 164.8150  & 180.9197  & 186.9277  & 161.8629  & 143.2156  & 177.3407  & 286.8962 \\\\\n",
       "\t9 & 236.78650 & 210.72689 & 191.10183 & 172.98125 & 156.05531 & 127.90696 &  69.41510 &  38.07293 &  97.67516 & 264.65884\\\\\n",
       "\t10 & 231.91905 & 205.93345 & 193.96003 & 188.19285 & 181.69823 & 154.27718 &  72.52431 &  29.35146 & 110.81448 & 268.95438\\\\\n",
       "\t11 & 190.51706 &  90.42965 &  76.21068 & 120.23456 & 178.57579 & 199.66238 & 106.39157 &  35.00954 & 118.50332 & 283.91652\\\\\n",
       "\\end{tabular}\n"
      ],
      "text/markdown": [
       "\n",
       "A data.frame: 10 × 10\n",
       "\n",
       "| <!--/--> | 2019-03-10 &lt;chr&gt; | 2019-03-20 &lt;chr&gt; | 2019-03-30 &lt;chr&gt; | 2019-04-10 &lt;chr&gt; | 2019-04-20 &lt;chr&gt; | 2019-04-30 &lt;chr&gt; | 2019-05-10 &lt;chr&gt; | 2019-05-20 &lt;chr&gt; | 2019-05-30 &lt;chr&gt; | 2019-06-10 &lt;chr&gt; |\n",
       "|---|---|---|---|---|---|---|---|---|---|---|\n",
       "| 2 | 221.4937  | 158.4921  | 139.9091  | 155.7404  | 189.4430  | 213.8895  | 185.0671  | 211.3226  | 371.2179  | 517.6092  |\n",
       "| 3 | 212.82404 | 109.53846 |  88.59296 | 124.17668 | 176.65710 | 197.20308 | 113.33114 |  55.83492 | 147.71278 | 302.41820 |\n",
       "| 4 | 238.39798 | 136.69881 | 118.08474 | 155.66540 | 208.14684 | 221.17180 | 111.27477 |  45.71994 | 168.12143 | 320.75305 |\n",
       "| 5 | 201.5028  | 116.9077  | 107.5394  | 149.6917  | 204.4011  | 224.7080  | 138.3899  |  83.5635  | 184.4179  | 330.6723  |\n",
       "| 6 | 180.7478  | 171.6532  | 173.4408  | 181.2109  | 187.4011  | 178.5188  | 130.8964  | 108.1516  | 170.6409  | 292.4629  |\n",
       "| 7 | 189.6896  | 119.4432  | 108.3780  | 139.2420  | 183.4065  | 218.3921  | 217.4083  | 180.7077  | 143.0232  | 221.6167  |\n",
       "| 8 | 182.7741  | 156.0872  | 152.5695  | 164.8150  | 180.9197  | 186.9277  | 161.8629  | 143.2156  | 177.3407  | 286.8962  |\n",
       "| 9 | 236.78650 | 210.72689 | 191.10183 | 172.98125 | 156.05531 | 127.90696 |  69.41510 |  38.07293 |  97.67516 | 264.65884 |\n",
       "| 10 | 231.91905 | 205.93345 | 193.96003 | 188.19285 | 181.69823 | 154.27718 |  72.52431 |  29.35146 | 110.81448 | 268.95438 |\n",
       "| 11 | 190.51706 |  90.42965 |  76.21068 | 120.23456 | 178.57579 | 199.66238 | 106.39157 |  35.00954 | 118.50332 | 283.91652 |\n",
       "\n"
      ],
      "text/plain": [
       "   2019-03-10 2019-03-20 2019-03-30 2019-04-10 2019-04-20 2019-04-30 2019-05-10\n",
       "2  221.4937   158.4921   139.9091   155.7404   189.4430   213.8895   185.0671  \n",
       "3  212.82404  109.53846   88.59296  124.17668  176.65710  197.20308  113.33114 \n",
       "4  238.39798  136.69881  118.08474  155.66540  208.14684  221.17180  111.27477 \n",
       "5  201.5028   116.9077   107.5394   149.6917   204.4011   224.7080   138.3899  \n",
       "6  180.7478   171.6532   173.4408   181.2109   187.4011   178.5188   130.8964  \n",
       "7  189.6896   119.4432   108.3780   139.2420   183.4065   218.3921   217.4083  \n",
       "8  182.7741   156.0872   152.5695   164.8150   180.9197   186.9277   161.8629  \n",
       "9  236.78650  210.72689  191.10183  172.98125  156.05531  127.90696   69.41510 \n",
       "10 231.91905  205.93345  193.96003  188.19285  181.69823  154.27718   72.52431 \n",
       "11 190.51706   90.42965   76.21068  120.23456  178.57579  199.66238  106.39157 \n",
       "   2019-05-20 2019-05-30 2019-06-10\n",
       "2  211.3226   371.2179   517.6092  \n",
       "3   55.83492  147.71278  302.41820 \n",
       "4   45.71994  168.12143  320.75305 \n",
       "5   83.5635   184.4179   330.6723  \n",
       "6  108.1516   170.6409   292.4629  \n",
       "7  180.7077   143.0232   221.6167  \n",
       "8  143.2156   177.3407   286.8962  \n",
       "9   38.07293   97.67516  264.65884 \n",
       "10  29.35146  110.81448  268.95438 \n",
       "11  35.00954  118.50332  283.91652 "
      ]
     },
     "metadata": {},
     "output_type": "display_data"
    }
   ],
   "source": [
    "rice[1:10,1:10]"
   ]
  },
  {
   "cell_type": "code",
   "execution_count": 158,
   "metadata": {},
   "outputs": [],
   "source": [
    "dates <- rice$daily\n",
    "obj <- colnames(rice[2:ncol(rice)])\n",
    "ricen <- rice[2:ncol(rice)]"
   ]
  },
  {
   "cell_type": "code",
   "execution_count": 161,
   "metadata": {},
   "outputs": [
    {
     "data": {
      "text/html": [
       "<table>\n",
       "<caption>A data.frame: 10 × 10</caption>\n",
       "<thead>\n",
       "\t<tr><th scope=col>NDVI</th><th scope=col>NDVI.1</th><th scope=col>NDVI.2</th><th scope=col>NDVI.3</th><th scope=col>NDVI.4</th><th scope=col>NDVI.5</th><th scope=col>NDVI.6</th><th scope=col>NDVI.7</th><th scope=col>NDVI.8</th><th scope=col>NDVI.9</th></tr>\n",
       "\t<tr><th scope=col>&lt;chr&gt;</th><th scope=col>&lt;chr&gt;</th><th scope=col>&lt;chr&gt;</th><th scope=col>&lt;chr&gt;</th><th scope=col>&lt;chr&gt;</th><th scope=col>&lt;chr&gt;</th><th scope=col>&lt;chr&gt;</th><th scope=col>&lt;chr&gt;</th><th scope=col>&lt;chr&gt;</th><th scope=col>&lt;chr&gt;</th></tr>\n",
       "</thead>\n",
       "<tbody>\n",
       "\t<tr><td>158.4921 </td><td>139.9091 </td><td>155.7404 </td><td>189.4430 </td><td>213.8895 </td><td>185.0671 </td><td>211.3226 </td><td>371.2179 </td><td>517.6092 </td><td>596.9302 </td></tr>\n",
       "\t<tr><td>109.53846</td><td> 88.59296</td><td>124.17668</td><td>176.65710</td><td>197.20308</td><td>113.33114</td><td> 55.83492</td><td>147.71278</td><td>302.41820</td><td>445.93172</td></tr>\n",
       "\t<tr><td>136.69881</td><td>118.08474</td><td>155.66540</td><td>208.14684</td><td>221.17180</td><td>111.27477</td><td> 45.71994</td><td>168.12143</td><td>320.75305</td><td>436.78388</td></tr>\n",
       "\t<tr><td>116.9077 </td><td>107.5394 </td><td>149.6917 </td><td>204.4011 </td><td>224.7080 </td><td>138.3899 </td><td> 83.5635 </td><td>184.4179 </td><td>330.6723 </td><td>456.1974 </td></tr>\n",
       "\t<tr><td>171.6532 </td><td>173.4408 </td><td>181.2109 </td><td>187.4011 </td><td>178.5188 </td><td>130.8964 </td><td>108.1516 </td><td>170.6409 </td><td>292.4629 </td><td>424.9826 </td></tr>\n",
       "\t<tr><td>119.4432 </td><td>108.3780 </td><td>139.2420 </td><td>183.4065 </td><td>218.3921 </td><td>217.4083 </td><td>180.7077 </td><td>143.0232 </td><td>221.6167 </td><td>377.4910 </td></tr>\n",
       "\t<tr><td>156.0872 </td><td>152.5695 </td><td>164.8150 </td><td>180.9197 </td><td>186.9277 </td><td>161.8629 </td><td>143.2156 </td><td>177.3407 </td><td>286.8962 </td><td>422.7822 </td></tr>\n",
       "\t<tr><td>210.72689</td><td>191.10183</td><td>172.98125</td><td>156.05531</td><td>127.90696</td><td> 69.41510</td><td> 38.07293</td><td> 97.67516</td><td>264.65884</td><td>460.69321</td></tr>\n",
       "\t<tr><td>205.93345</td><td>193.96003</td><td>188.19285</td><td>181.69823</td><td>154.27718</td><td> 72.52431</td><td> 29.35146</td><td>110.81448</td><td>268.95438</td><td>432.15820</td></tr>\n",
       "\t<tr><td> 90.42965</td><td> 76.21068</td><td>120.23456</td><td>178.57579</td><td>199.66238</td><td>106.39157</td><td> 35.00954</td><td>118.50332</td><td>283.91652</td><td>447.21621</td></tr>\n",
       "</tbody>\n",
       "</table>\n"
      ],
      "text/latex": [
       "A data.frame: 10 × 10\n",
       "\\begin{tabular}{r|llllllllll}\n",
       " NDVI & NDVI.1 & NDVI.2 & NDVI.3 & NDVI.4 & NDVI.5 & NDVI.6 & NDVI.7 & NDVI.8 & NDVI.9\\\\\n",
       " <chr> & <chr> & <chr> & <chr> & <chr> & <chr> & <chr> & <chr> & <chr> & <chr>\\\\\n",
       "\\hline\n",
       "\t 158.4921  & 139.9091  & 155.7404  & 189.4430  & 213.8895  & 185.0671  & 211.3226  & 371.2179  & 517.6092  & 596.9302 \\\\\n",
       "\t 109.53846 &  88.59296 & 124.17668 & 176.65710 & 197.20308 & 113.33114 &  55.83492 & 147.71278 & 302.41820 & 445.93172\\\\\n",
       "\t 136.69881 & 118.08474 & 155.66540 & 208.14684 & 221.17180 & 111.27477 &  45.71994 & 168.12143 & 320.75305 & 436.78388\\\\\n",
       "\t 116.9077  & 107.5394  & 149.6917  & 204.4011  & 224.7080  & 138.3899  &  83.5635  & 184.4179  & 330.6723  & 456.1974 \\\\\n",
       "\t 171.6532  & 173.4408  & 181.2109  & 187.4011  & 178.5188  & 130.8964  & 108.1516  & 170.6409  & 292.4629  & 424.9826 \\\\\n",
       "\t 119.4432  & 108.3780  & 139.2420  & 183.4065  & 218.3921  & 217.4083  & 180.7077  & 143.0232  & 221.6167  & 377.4910 \\\\\n",
       "\t 156.0872  & 152.5695  & 164.8150  & 180.9197  & 186.9277  & 161.8629  & 143.2156  & 177.3407  & 286.8962  & 422.7822 \\\\\n",
       "\t 210.72689 & 191.10183 & 172.98125 & 156.05531 & 127.90696 &  69.41510 &  38.07293 &  97.67516 & 264.65884 & 460.69321\\\\\n",
       "\t 205.93345 & 193.96003 & 188.19285 & 181.69823 & 154.27718 &  72.52431 &  29.35146 & 110.81448 & 268.95438 & 432.15820\\\\\n",
       "\t  90.42965 &  76.21068 & 120.23456 & 178.57579 & 199.66238 & 106.39157 &  35.00954 & 118.50332 & 283.91652 & 447.21621\\\\\n",
       "\\end{tabular}\n"
      ],
      "text/markdown": [
       "\n",
       "A data.frame: 10 × 10\n",
       "\n",
       "| NDVI &lt;chr&gt; | NDVI.1 &lt;chr&gt; | NDVI.2 &lt;chr&gt; | NDVI.3 &lt;chr&gt; | NDVI.4 &lt;chr&gt; | NDVI.5 &lt;chr&gt; | NDVI.6 &lt;chr&gt; | NDVI.7 &lt;chr&gt; | NDVI.8 &lt;chr&gt; | NDVI.9 &lt;chr&gt; |\n",
       "|---|---|---|---|---|---|---|---|---|---|\n",
       "| 158.4921  | 139.9091  | 155.7404  | 189.4430  | 213.8895  | 185.0671  | 211.3226  | 371.2179  | 517.6092  | 596.9302  |\n",
       "| 109.53846 |  88.59296 | 124.17668 | 176.65710 | 197.20308 | 113.33114 |  55.83492 | 147.71278 | 302.41820 | 445.93172 |\n",
       "| 136.69881 | 118.08474 | 155.66540 | 208.14684 | 221.17180 | 111.27477 |  45.71994 | 168.12143 | 320.75305 | 436.78388 |\n",
       "| 116.9077  | 107.5394  | 149.6917  | 204.4011  | 224.7080  | 138.3899  |  83.5635  | 184.4179  | 330.6723  | 456.1974  |\n",
       "| 171.6532  | 173.4408  | 181.2109  | 187.4011  | 178.5188  | 130.8964  | 108.1516  | 170.6409  | 292.4629  | 424.9826  |\n",
       "| 119.4432  | 108.3780  | 139.2420  | 183.4065  | 218.3921  | 217.4083  | 180.7077  | 143.0232  | 221.6167  | 377.4910  |\n",
       "| 156.0872  | 152.5695  | 164.8150  | 180.9197  | 186.9277  | 161.8629  | 143.2156  | 177.3407  | 286.8962  | 422.7822  |\n",
       "| 210.72689 | 191.10183 | 172.98125 | 156.05531 | 127.90696 |  69.41510 |  38.07293 |  97.67516 | 264.65884 | 460.69321 |\n",
       "| 205.93345 | 193.96003 | 188.19285 | 181.69823 | 154.27718 |  72.52431 |  29.35146 | 110.81448 | 268.95438 | 432.15820 |\n",
       "|  90.42965 |  76.21068 | 120.23456 | 178.57579 | 199.66238 | 106.39157 |  35.00954 | 118.50332 | 283.91652 | 447.21621 |\n",
       "\n"
      ],
      "text/plain": [
       "   NDVI      NDVI.1    NDVI.2    NDVI.3    NDVI.4    NDVI.5    NDVI.6   \n",
       "1  158.4921  139.9091  155.7404  189.4430  213.8895  185.0671  211.3226 \n",
       "2  109.53846  88.59296 124.17668 176.65710 197.20308 113.33114  55.83492\n",
       "3  136.69881 118.08474 155.66540 208.14684 221.17180 111.27477  45.71994\n",
       "4  116.9077  107.5394  149.6917  204.4011  224.7080  138.3899   83.5635 \n",
       "5  171.6532  173.4408  181.2109  187.4011  178.5188  130.8964  108.1516 \n",
       "6  119.4432  108.3780  139.2420  183.4065  218.3921  217.4083  180.7077 \n",
       "7  156.0872  152.5695  164.8150  180.9197  186.9277  161.8629  143.2156 \n",
       "8  210.72689 191.10183 172.98125 156.05531 127.90696  69.41510  38.07293\n",
       "9  205.93345 193.96003 188.19285 181.69823 154.27718  72.52431  29.35146\n",
       "10  90.42965  76.21068 120.23456 178.57579 199.66238 106.39157  35.00954\n",
       "   NDVI.7    NDVI.8    NDVI.9   \n",
       "1  371.2179  517.6092  596.9302 \n",
       "2  147.71278 302.41820 445.93172\n",
       "3  168.12143 320.75305 436.78388\n",
       "4  184.4179  330.6723  456.1974 \n",
       "5  170.6409  292.4629  424.9826 \n",
       "6  143.0232  221.6167  377.4910 \n",
       "7  177.3407  286.8962  422.7822 \n",
       "8   97.67516 264.65884 460.69321\n",
       "9  110.81448 268.95438 432.15820\n",
       "10 118.50332 283.91652 447.21621"
      ]
     },
     "metadata": {},
     "output_type": "display_data"
    }
   ],
   "source": [
    "ricen[1:10,1:10]"
   ]
  },
  {
   "cell_type": "code",
   "execution_count": 160,
   "metadata": {},
   "outputs": [],
   "source": [
    "colnames(ricen) <- rep(\"NDVI\",ncol(ricen))\n",
    "row.names(ricen) <- 1:nrow(rice)"
   ]
  },
  {
   "cell_type": "code",
   "execution_count": 153,
   "metadata": {},
   "outputs": [
    {
     "ename": "ERROR",
     "evalue": "Error in names(x) <- value: 'names' attribute [16] must be the same length as the vector [0]\n",
     "output_type": "error",
     "traceback": [
      "Error in names(x) <- value: 'names' attribute [16] must be the same length as the vector [0]\nTraceback:\n",
      "1. TSF_main(ricen[i])",
      "2. read_tpa(file_tpa)   # at line 69 of file <text>",
      "3. do.call(rbind.data.frame, lst) %>% set_colnames(Colnames)",
      "4. withVisible(eval(quote(`_fseq`(`_lhs`)), env, env))",
      "5. eval(quote(`_fseq`(`_lhs`)), env, env)",
      "6. eval(quote(`_fseq`(`_lhs`)), env, env)",
      "7. `_fseq`(`_lhs`)",
      "8. freduce(value, `_function_list`)",
      "9. withVisible(function_list[[k]](value))",
      "10. function_list[[k]](value)",
      "11. set_colnames(., Colnames)"
     ]
    }
   ],
   "source": [
    "#TimeSat\n",
    "l <- list()\n",
    "for (i in 1: ncol(ricen)){\n",
    "  l[i] <- list(TSF_main(ricen[i]))\n",
    "}"
   ]
  },
  {
   "cell_type": "code",
   "execution_count": 90,
   "metadata": {},
   "outputs": [],
   "source": [
    "phenolist <- list()\n",
    "for (i in 1:length(l)){\n",
    "  phenolist[i] <- list(l[[i]]$pheno)\n",
    "}"
   ]
  },
  {
   "cell_type": "code",
   "execution_count": 91,
   "metadata": {},
   "outputs": [
    {
     "data": {
      "text/html": [
       "<table>\n",
       "<caption>A data.frame: 5 × 16</caption>\n",
       "<thead>\n",
       "\t<tr><th></th><th scope=col>row</th><th scope=col>col</th><th scope=col>season</th><th scope=col>time_start</th><th scope=col>time_end</th><th scope=col>time_peak</th><th scope=col>len</th><th scope=col>val_start</th><th scope=col>val_end</th><th scope=col>val_peak</th><th scope=col>val_base</th><th scope=col>ampl</th><th scope=col>der_l</th><th scope=col>der_r</th><th scope=col>integ_large</th><th scope=col>integ_small</th></tr>\n",
       "\t<tr><th></th><th scope=col>&lt;dbl&gt;</th><th scope=col>&lt;dbl&gt;</th><th scope=col>&lt;dbl&gt;</th><th scope=col>&lt;dbl&gt;</th><th scope=col>&lt;dbl&gt;</th><th scope=col>&lt;dbl&gt;</th><th scope=col>&lt;dbl&gt;</th><th scope=col>&lt;dbl&gt;</th><th scope=col>&lt;dbl&gt;</th><th scope=col>&lt;dbl&gt;</th><th scope=col>&lt;dbl&gt;</th><th scope=col>&lt;dbl&gt;</th><th scope=col>&lt;dbl&gt;</th><th scope=col>&lt;dbl&gt;</th><th scope=col>&lt;dbl&gt;</th><th scope=col>&lt;dbl&gt;</th></tr>\n",
       "</thead>\n",
       "<tbody>\n",
       "\t<tr><th scope=row>109</th><td>1</td><td>1</td><td>1</td><td>10.30691</td><td>22.06402</td><td>16.54910</td><td>11.757109</td><td>500.1835</td><td>500.1835</td><td>842.1780</td><td>158.1891</td><td>683.9888</td><td> 87.20371</td><td>110.4130</td><td>9541.217</td><td>7326.570</td></tr>\n",
       "\t<tr><th scope=row>110</th><td>1</td><td>1</td><td>1</td><td>11.41991</td><td>22.48041</td><td>17.01886</td><td>11.060491</td><td>495.5674</td><td>495.5674</td><td>871.0121</td><td>120.1226</td><td>750.8895</td><td>126.73415</td><td>116.2375</td><td>9192.518</td><td>7630.924</td></tr>\n",
       "\t<tr><th scope=row>111</th><td>1</td><td>1</td><td>1</td><td>11.63543</td><td>22.37831</td><td>16.95647</td><td>10.742872</td><td>511.7146</td><td>511.7146</td><td>890.6611</td><td>132.7682</td><td>757.8929</td><td>128.01216</td><td>107.8696</td><td>9222.448</td><td>7496.462</td></tr>\n",
       "\t<tr><th scope=row>112</th><td>1</td><td>1</td><td>1</td><td>11.45145</td><td>21.87033</td><td>16.60111</td><td>10.418884</td><td>508.3320</td><td>501.5473</td><td>869.3218</td><td>140.5575</td><td>728.7643</td><td>122.62640</td><td>107.0461</td><td>8506.385</td><td>6819.695</td></tr>\n",
       "\t<tr><th scope=row>113</th><td>1</td><td>1</td><td>1</td><td>11.68167</td><td>21.46642</td><td>16.57726</td><td> 9.784752</td><td>517.0316</td><td>517.0316</td><td>898.8629</td><td>135.2003</td><td>763.6626</td><td>130.70656</td><td>123.2175</td><td>8543.068</td><td>6920.665</td></tr>\n",
       "</tbody>\n",
       "</table>\n"
      ],
      "text/latex": [
       "A data.frame: 5 × 16\n",
       "\\begin{tabular}{r|llllllllllllllll}\n",
       "  & row & col & season & time\\_start & time\\_end & time\\_peak & len & val\\_start & val\\_end & val\\_peak & val\\_base & ampl & der\\_l & der\\_r & integ\\_large & integ\\_small\\\\\n",
       "  & <dbl> & <dbl> & <dbl> & <dbl> & <dbl> & <dbl> & <dbl> & <dbl> & <dbl> & <dbl> & <dbl> & <dbl> & <dbl> & <dbl> & <dbl> & <dbl>\\\\\n",
       "\\hline\n",
       "\t109 & 1 & 1 & 1 & 10.30691 & 22.06402 & 16.54910 & 11.757109 & 500.1835 & 500.1835 & 842.1780 & 158.1891 & 683.9888 &  87.20371 & 110.4130 & 9541.217 & 7326.570\\\\\n",
       "\t110 & 1 & 1 & 1 & 11.41991 & 22.48041 & 17.01886 & 11.060491 & 495.5674 & 495.5674 & 871.0121 & 120.1226 & 750.8895 & 126.73415 & 116.2375 & 9192.518 & 7630.924\\\\\n",
       "\t111 & 1 & 1 & 1 & 11.63543 & 22.37831 & 16.95647 & 10.742872 & 511.7146 & 511.7146 & 890.6611 & 132.7682 & 757.8929 & 128.01216 & 107.8696 & 9222.448 & 7496.462\\\\\n",
       "\t112 & 1 & 1 & 1 & 11.45145 & 21.87033 & 16.60111 & 10.418884 & 508.3320 & 501.5473 & 869.3218 & 140.5575 & 728.7643 & 122.62640 & 107.0461 & 8506.385 & 6819.695\\\\\n",
       "\t113 & 1 & 1 & 1 & 11.68167 & 21.46642 & 16.57726 &  9.784752 & 517.0316 & 517.0316 & 898.8629 & 135.2003 & 763.6626 & 130.70656 & 123.2175 & 8543.068 & 6920.665\\\\\n",
       "\\end{tabular}\n"
      ],
      "text/markdown": [
       "\n",
       "A data.frame: 5 × 16\n",
       "\n",
       "| <!--/--> | row &lt;dbl&gt; | col &lt;dbl&gt; | season &lt;dbl&gt; | time_start &lt;dbl&gt; | time_end &lt;dbl&gt; | time_peak &lt;dbl&gt; | len &lt;dbl&gt; | val_start &lt;dbl&gt; | val_end &lt;dbl&gt; | val_peak &lt;dbl&gt; | val_base &lt;dbl&gt; | ampl &lt;dbl&gt; | der_l &lt;dbl&gt; | der_r &lt;dbl&gt; | integ_large &lt;dbl&gt; | integ_small &lt;dbl&gt; |\n",
       "|---|---|---|---|---|---|---|---|---|---|---|---|---|---|---|---|---|\n",
       "| 109 | 1 | 1 | 1 | 10.30691 | 22.06402 | 16.54910 | 11.757109 | 500.1835 | 500.1835 | 842.1780 | 158.1891 | 683.9888 |  87.20371 | 110.4130 | 9541.217 | 7326.570 |\n",
       "| 110 | 1 | 1 | 1 | 11.41991 | 22.48041 | 17.01886 | 11.060491 | 495.5674 | 495.5674 | 871.0121 | 120.1226 | 750.8895 | 126.73415 | 116.2375 | 9192.518 | 7630.924 |\n",
       "| 111 | 1 | 1 | 1 | 11.63543 | 22.37831 | 16.95647 | 10.742872 | 511.7146 | 511.7146 | 890.6611 | 132.7682 | 757.8929 | 128.01216 | 107.8696 | 9222.448 | 7496.462 |\n",
       "| 112 | 1 | 1 | 1 | 11.45145 | 21.87033 | 16.60111 | 10.418884 | 508.3320 | 501.5473 | 869.3218 | 140.5575 | 728.7643 | 122.62640 | 107.0461 | 8506.385 | 6819.695 |\n",
       "| 113 | 1 | 1 | 1 | 11.68167 | 21.46642 | 16.57726 |  9.784752 | 517.0316 | 517.0316 | 898.8629 | 135.2003 | 763.6626 | 130.70656 | 123.2175 | 8543.068 | 6920.665 |\n",
       "\n"
      ],
      "text/plain": [
       "    row col season time_start time_end time_peak len       val_start val_end \n",
       "109 1   1   1      10.30691   22.06402 16.54910  11.757109 500.1835  500.1835\n",
       "110 1   1   1      11.41991   22.48041 17.01886  11.060491 495.5674  495.5674\n",
       "111 1   1   1      11.63543   22.37831 16.95647  10.742872 511.7146  511.7146\n",
       "112 1   1   1      11.45145   21.87033 16.60111  10.418884 508.3320  501.5473\n",
       "113 1   1   1      11.68167   21.46642 16.57726   9.784752 517.0316  517.0316\n",
       "    val_peak val_base ampl     der_l     der_r    integ_large integ_small\n",
       "109 842.1780 158.1891 683.9888  87.20371 110.4130 9541.217    7326.570   \n",
       "110 871.0121 120.1226 750.8895 126.73415 116.2375 9192.518    7630.924   \n",
       "111 890.6611 132.7682 757.8929 128.01216 107.8696 9222.448    7496.462   \n",
       "112 869.3218 140.5575 728.7643 122.62640 107.0461 8506.385    6819.695   \n",
       "113 898.8629 135.2003 763.6626 130.70656 123.2175 8543.068    6920.665   "
      ]
     },
     "metadata": {},
     "output_type": "display_data"
    }
   ],
   "source": [
    "phenolist <- data.frame(matrix(unlist(phenolist), nrow=length(phenolist), byrow=T))\n",
    "colnames(phenolist) <- c(\"row\", \"col\", \"season\", \"time_start\", \"time_end\", \"time_peak\", \"len\", \"val_start\", \"val_end\",\"val_peak\", \"val_base\", \"ampl\", \"der_l\", \"der_r\", \"integ_large\", \"integ_small\")\n",
    "row.names(phenolist) <- obj\n",
    "phenolist[1:5,1:ncol(phenolist)]"
   ]
  },
  {
   "cell_type": "code",
   "execution_count": 92,
   "metadata": {},
   "outputs": [
    {
     "data": {
      "text/html": [
       "<table>\n",
       "<caption>A data.frame: 10 × 10</caption>\n",
       "<thead>\n",
       "\t<tr><th></th><th scope=col>date</th><th scope=col>109</th><th scope=col>110</th><th scope=col>111</th><th scope=col>112</th><th scope=col>113</th><th scope=col>114</th><th scope=col>115</th><th scope=col>116</th><th scope=col>117</th></tr>\n",
       "\t<tr><th></th><th scope=col>&lt;date&gt;</th><th scope=col>&lt;dbl&gt;</th><th scope=col>&lt;dbl&gt;</th><th scope=col>&lt;dbl&gt;</th><th scope=col>&lt;dbl&gt;</th><th scope=col>&lt;dbl&gt;</th><th scope=col>&lt;dbl&gt;</th><th scope=col>&lt;dbl&gt;</th><th scope=col>&lt;dbl&gt;</th><th scope=col>&lt;dbl&gt;</th></tr>\n",
       "</thead>\n",
       "<tbody>\n",
       "\t<tr><th scope=row>X1</th><td>2019-03-10</td><td>183.3217</td><td>156.9489</td><td>179.2540</td><td>148.2959</td><td>168.2081</td><td>142.1075</td><td>166.0582</td><td>199.75111</td><td>202.45958</td></tr>\n",
       "\t<tr><th scope=row>X2</th><td>2019-03-20</td><td>166.8784</td><td>128.9249</td><td>154.4576</td><td>133.7728</td><td>176.0298</td><td>136.1862</td><td>162.3961</td><td>196.57433</td><td>191.44746</td></tr>\n",
       "\t<tr><th scope=row>X3</th><td>2019-03-30</td><td>161.3805</td><td>129.8558</td><td>162.5190</td><td>147.3422</td><td>181.3359</td><td>138.2491</td><td>163.4542</td><td>194.64597</td><td>198.54153</td></tr>\n",
       "\t<tr><th scope=row>X4</th><td>2019-04-10</td><td>165.5746</td><td>141.5263</td><td>173.5704</td><td>165.4471</td><td>180.3862</td><td>150.8810</td><td>166.9984</td><td>180.49870</td><td>194.75922</td></tr>\n",
       "\t<tr><th scope=row>X5</th><td>2019-04-20</td><td>158.1891</td><td>131.5856</td><td>154.0773</td><td>158.3149</td><td>168.3521</td><td>173.3941</td><td>166.9223</td><td>138.85234</td><td>154.55865</td></tr>\n",
       "\t<tr><th scope=row>X6</th><td>2019-04-30</td><td>173.6629</td><td>125.4199</td><td>140.9192</td><td>153.9119</td><td>147.5174</td><td>187.7252</td><td>159.6030</td><td> 95.29352</td><td>110.86060</td></tr>\n",
       "\t<tr><th scope=row>X7</th><td>2019-05-10</td><td>215.1492</td><td>120.1226</td><td>132.7682</td><td>150.9187</td><td>135.2003</td><td>181.6364</td><td>154.0752</td><td> 66.63705</td><td> 81.62102</td></tr>\n",
       "\t<tr><th scope=row>X8</th><td>2019-05-20</td><td>282.1911</td><td>133.6237</td><td>143.7051</td><td>164.8191</td><td>147.1236</td><td>175.6640</td><td>166.7095</td><td> 77.92503</td><td> 88.41434</td></tr>\n",
       "\t<tr><th scope=row>X9</th><td>2019-05-30</td><td>369.5294</td><td>184.8503</td><td>188.2021</td><td>212.0232</td><td>196.2190</td><td>198.1065</td><td>213.2633</td><td>121.01205</td><td>146.91707</td></tr>\n",
       "\t<tr><th scope=row>X10</th><td>2019-06-10</td><td>469.1628</td><td>284.0493</td><td>278.2152</td><td>303.5041</td><td>288.0864</td><td>266.9739</td><td>298.6404</td><td>265.42642</td><td>258.22372</td></tr>\n",
       "</tbody>\n",
       "</table>\n"
      ],
      "text/latex": [
       "A data.frame: 10 × 10\n",
       "\\begin{tabular}{r|llllllllll}\n",
       "  & date & 109 & 110 & 111 & 112 & 113 & 114 & 115 & 116 & 117\\\\\n",
       "  & <date> & <dbl> & <dbl> & <dbl> & <dbl> & <dbl> & <dbl> & <dbl> & <dbl> & <dbl>\\\\\n",
       "\\hline\n",
       "\tX1 & 2019-03-10 & 183.3217 & 156.9489 & 179.2540 & 148.2959 & 168.2081 & 142.1075 & 166.0582 & 199.75111 & 202.45958\\\\\n",
       "\tX2 & 2019-03-20 & 166.8784 & 128.9249 & 154.4576 & 133.7728 & 176.0298 & 136.1862 & 162.3961 & 196.57433 & 191.44746\\\\\n",
       "\tX3 & 2019-03-30 & 161.3805 & 129.8558 & 162.5190 & 147.3422 & 181.3359 & 138.2491 & 163.4542 & 194.64597 & 198.54153\\\\\n",
       "\tX4 & 2019-04-10 & 165.5746 & 141.5263 & 173.5704 & 165.4471 & 180.3862 & 150.8810 & 166.9984 & 180.49870 & 194.75922\\\\\n",
       "\tX5 & 2019-04-20 & 158.1891 & 131.5856 & 154.0773 & 158.3149 & 168.3521 & 173.3941 & 166.9223 & 138.85234 & 154.55865\\\\\n",
       "\tX6 & 2019-04-30 & 173.6629 & 125.4199 & 140.9192 & 153.9119 & 147.5174 & 187.7252 & 159.6030 &  95.29352 & 110.86060\\\\\n",
       "\tX7 & 2019-05-10 & 215.1492 & 120.1226 & 132.7682 & 150.9187 & 135.2003 & 181.6364 & 154.0752 &  66.63705 &  81.62102\\\\\n",
       "\tX8 & 2019-05-20 & 282.1911 & 133.6237 & 143.7051 & 164.8191 & 147.1236 & 175.6640 & 166.7095 &  77.92503 &  88.41434\\\\\n",
       "\tX9 & 2019-05-30 & 369.5294 & 184.8503 & 188.2021 & 212.0232 & 196.2190 & 198.1065 & 213.2633 & 121.01205 & 146.91707\\\\\n",
       "\tX10 & 2019-06-10 & 469.1628 & 284.0493 & 278.2152 & 303.5041 & 288.0864 & 266.9739 & 298.6404 & 265.42642 & 258.22372\\\\\n",
       "\\end{tabular}\n"
      ],
      "text/markdown": [
       "\n",
       "A data.frame: 10 × 10\n",
       "\n",
       "| <!--/--> | date &lt;date&gt; | 109 &lt;dbl&gt; | 110 &lt;dbl&gt; | 111 &lt;dbl&gt; | 112 &lt;dbl&gt; | 113 &lt;dbl&gt; | 114 &lt;dbl&gt; | 115 &lt;dbl&gt; | 116 &lt;dbl&gt; | 117 &lt;dbl&gt; |\n",
       "|---|---|---|---|---|---|---|---|---|---|---|\n",
       "| X1 | 2019-03-10 | 183.3217 | 156.9489 | 179.2540 | 148.2959 | 168.2081 | 142.1075 | 166.0582 | 199.75111 | 202.45958 |\n",
       "| X2 | 2019-03-20 | 166.8784 | 128.9249 | 154.4576 | 133.7728 | 176.0298 | 136.1862 | 162.3961 | 196.57433 | 191.44746 |\n",
       "| X3 | 2019-03-30 | 161.3805 | 129.8558 | 162.5190 | 147.3422 | 181.3359 | 138.2491 | 163.4542 | 194.64597 | 198.54153 |\n",
       "| X4 | 2019-04-10 | 165.5746 | 141.5263 | 173.5704 | 165.4471 | 180.3862 | 150.8810 | 166.9984 | 180.49870 | 194.75922 |\n",
       "| X5 | 2019-04-20 | 158.1891 | 131.5856 | 154.0773 | 158.3149 | 168.3521 | 173.3941 | 166.9223 | 138.85234 | 154.55865 |\n",
       "| X6 | 2019-04-30 | 173.6629 | 125.4199 | 140.9192 | 153.9119 | 147.5174 | 187.7252 | 159.6030 |  95.29352 | 110.86060 |\n",
       "| X7 | 2019-05-10 | 215.1492 | 120.1226 | 132.7682 | 150.9187 | 135.2003 | 181.6364 | 154.0752 |  66.63705 |  81.62102 |\n",
       "| X8 | 2019-05-20 | 282.1911 | 133.6237 | 143.7051 | 164.8191 | 147.1236 | 175.6640 | 166.7095 |  77.92503 |  88.41434 |\n",
       "| X9 | 2019-05-30 | 369.5294 | 184.8503 | 188.2021 | 212.0232 | 196.2190 | 198.1065 | 213.2633 | 121.01205 | 146.91707 |\n",
       "| X10 | 2019-06-10 | 469.1628 | 284.0493 | 278.2152 | 303.5041 | 288.0864 | 266.9739 | 298.6404 | 265.42642 | 258.22372 |\n",
       "\n"
      ],
      "text/plain": [
       "    date       109      110      111      112      113      114      115     \n",
       "X1  2019-03-10 183.3217 156.9489 179.2540 148.2959 168.2081 142.1075 166.0582\n",
       "X2  2019-03-20 166.8784 128.9249 154.4576 133.7728 176.0298 136.1862 162.3961\n",
       "X3  2019-03-30 161.3805 129.8558 162.5190 147.3422 181.3359 138.2491 163.4542\n",
       "X4  2019-04-10 165.5746 141.5263 173.5704 165.4471 180.3862 150.8810 166.9984\n",
       "X5  2019-04-20 158.1891 131.5856 154.0773 158.3149 168.3521 173.3941 166.9223\n",
       "X6  2019-04-30 173.6629 125.4199 140.9192 153.9119 147.5174 187.7252 159.6030\n",
       "X7  2019-05-10 215.1492 120.1226 132.7682 150.9187 135.2003 181.6364 154.0752\n",
       "X8  2019-05-20 282.1911 133.6237 143.7051 164.8191 147.1236 175.6640 166.7095\n",
       "X9  2019-05-30 369.5294 184.8503 188.2021 212.0232 196.2190 198.1065 213.2633\n",
       "X10 2019-06-10 469.1628 284.0493 278.2152 303.5041 288.0864 266.9739 298.6404\n",
       "    116       117      \n",
       "X1  199.75111 202.45958\n",
       "X2  196.57433 191.44746\n",
       "X3  194.64597 198.54153\n",
       "X4  180.49870 194.75922\n",
       "X5  138.85234 154.55865\n",
       "X6   95.29352 110.86060\n",
       "X7   66.63705  81.62102\n",
       "X8   77.92503  88.41434\n",
       "X9  121.01205 146.91707\n",
       "X10 265.42642 258.22372"
      ]
     },
     "metadata": {},
     "output_type": "display_data"
    }
   ],
   "source": [
    "plotlistv <- list()\n",
    "for (i in 1:length(l)){\n",
    "  plotlistv[i] <- list(l[[i]]$fit$v1)\n",
    "}\n",
    "plotlistv <- data.frame(matrix(unlist(plotlistv), nrow=length(plotlistv), byrow=T))\n",
    "plotlistv <- as.data.frame(t(plotlistv))\n",
    "plotlistd <- as.data.frame(as.Date(dates))\n",
    "plotl <- cbind(plotlistd,plotlistv)\n",
    "colnames(plotl)[1] <-\"date\"\n",
    "colnames(plotl)[2:ncol(plotl)] <- obj\n",
    "plotl[1:10,1:10]"
   ]
  },
  {
   "cell_type": "code",
   "execution_count": 46,
   "metadata": {},
   "outputs": [
    {
     "data": {
      "image/png": "[encoded data removed]",
      "text/plain": [
       "plot without title"
      ]
     },
     "metadata": {
      "image/png": {
       "height": 420,
       "width": 420
      },
      "text/plain": {
       "height": 420,
       "width": 420
      }
     },
     "output_type": "display_data"
    },
    {
     "data": {
      "image/png": "[encoded data removed]",
      "text/plain": [
       "plot without title"
      ]
     },
     "metadata": {
      "image/png": {
       "height": 420,
       "width": 420
      },
      "text/plain": {
       "height": 420,
       "width": 420
      }
     },
     "output_type": "display_data"
    }
   ],
   "source": [
    "ggplot(data = plotl, mapping = aes(x = date, y = plotl$`109`)) +\n",
    "  geom_point()\n",
    "ggplot(data = rice, mapping = aes(x = daily, y= rice$`109`)) +\n",
    "  geom_point()"
   ]
  },
  {
   "cell_type": "code",
   "execution_count": 176,
   "metadata": {},
   "outputs": [],
   "source": [
    "write.csv(phenolist, \"C:/Users/User/Documents/NOA_e-shape/Korea-Data_Thanassis/wetransfer-09e80a/phenolist.csv\",row.names = T)\n",
    "write.csv(plotl, \"C:/Users/User/Documents/NOA_e-shape/Korea-Data_Thanassis/wetransfer-09e80a/plotl.csv\",row.names = T)"
   ]
  },
  {
   "cell_type": "markdown",
   "metadata": {},
   "source": [
    "CropPhenology package computes 15 phenological metrics based on satellite-based NDVI measurements over the season which can be easily visualised and used for successive spatio-temporal analysis."
   ]
  },
  {
   "cell_type": "code",
   "execution_count": 137,
   "metadata": {},
   "outputs": [],
   "source": [
    "pathtofile <- \"C:/Users/User/Documents/NOA_e-shape/Korea-Data_Thanassis/wetransfer-09e80a/interpolated_df_nn_fulltime2.csv\" \n",
    "ricepn <- as.data.frame(fread(pathtofile, header=T))\n",
    "ricepn <- ricepn[-c(1,2)]\n",
    "ricepn <- as.data.frame(t(ricepn))"
   ]
  },
  {
   "cell_type": "code",
   "execution_count": 108,
   "metadata": {},
   "outputs": [
    {
     "data": {
      "text/html": [
       "<table>\n",
       "<caption>A data.frame: 10 × 10</caption>\n",
       "<thead>\n",
       "\t<tr><th></th><th scope=col>V1</th><th scope=col>V2</th><th scope=col>V3</th><th scope=col>V4</th><th scope=col>V5</th><th scope=col>V6</th><th scope=col>V7</th><th scope=col>V8</th><th scope=col>V9</th><th scope=col>V10</th></tr>\n",
       "\t<tr><th></th><th scope=col>&lt;dbl&gt;</th><th scope=col>&lt;dbl&gt;</th><th scope=col>&lt;dbl&gt;</th><th scope=col>&lt;dbl&gt;</th><th scope=col>&lt;dbl&gt;</th><th scope=col>&lt;dbl&gt;</th><th scope=col>&lt;dbl&gt;</th><th scope=col>&lt;dbl&gt;</th><th scope=col>&lt;dbl&gt;</th><th scope=col>&lt;dbl&gt;</th></tr>\n",
       "</thead>\n",
       "<tbody>\n",
       "\t<tr><th scope=row>109</th><td>221.4937</td><td>158.49211</td><td>139.90911</td><td>155.7404</td><td>189.4430</td><td>213.8895</td><td>185.06713</td><td>211.32260</td><td>371.21790</td><td>517.6092</td></tr>\n",
       "\t<tr><th scope=row>110</th><td>212.8240</td><td>109.53846</td><td> 88.59296</td><td>124.1767</td><td>176.6571</td><td>197.2031</td><td>113.33114</td><td> 55.83492</td><td>147.71278</td><td>302.4182</td></tr>\n",
       "\t<tr><th scope=row>111</th><td>238.3980</td><td>136.69881</td><td>118.08474</td><td>155.6654</td><td>208.1468</td><td>221.1718</td><td>111.27477</td><td> 45.71994</td><td>168.12143</td><td>320.7530</td></tr>\n",
       "\t<tr><th scope=row>112</th><td>201.5028</td><td>116.90770</td><td>107.53939</td><td>149.6917</td><td>204.4011</td><td>224.7080</td><td>138.38987</td><td> 83.56350</td><td>184.41790</td><td>330.6723</td></tr>\n",
       "\t<tr><th scope=row>113</th><td>180.7478</td><td>171.65324</td><td>173.44076</td><td>181.2109</td><td>187.4011</td><td>178.5188</td><td>130.89638</td><td>108.15160</td><td>170.64090</td><td>292.4629</td></tr>\n",
       "\t<tr><th scope=row>114</th><td>189.6896</td><td>119.44316</td><td>108.37799</td><td>139.2420</td><td>183.4065</td><td>218.3921</td><td>217.40827</td><td>180.70765</td><td>143.02320</td><td>221.6167</td></tr>\n",
       "\t<tr><th scope=row>115</th><td>182.7741</td><td>156.08719</td><td>152.56949</td><td>164.8150</td><td>180.9197</td><td>186.9277</td><td>161.86288</td><td>143.21560</td><td>177.34070</td><td>286.8962</td></tr>\n",
       "\t<tr><th scope=row>116</th><td>236.7865</td><td>210.72689</td><td>191.10183</td><td>172.9813</td><td>156.0553</td><td>127.9070</td><td> 69.41510</td><td> 38.07293</td><td> 97.67516</td><td>264.6588</td></tr>\n",
       "\t<tr><th scope=row>117</th><td>231.9190</td><td>205.93345</td><td>193.96003</td><td>188.1928</td><td>181.6982</td><td>154.2772</td><td> 72.52431</td><td> 29.35146</td><td>110.81448</td><td>268.9544</td></tr>\n",
       "\t<tr><th scope=row>118</th><td>190.5171</td><td> 90.42965</td><td> 76.21068</td><td>120.2346</td><td>178.5758</td><td>199.6624</td><td>106.39157</td><td> 35.00954</td><td>118.50332</td><td>283.9165</td></tr>\n",
       "</tbody>\n",
       "</table>\n"
      ],
      "text/latex": [
       "A data.frame: 10 × 10\n",
       "\\begin{tabular}{r|llllllllll}\n",
       "  & V1 & V2 & V3 & V4 & V5 & V6 & V7 & V8 & V9 & V10\\\\\n",
       "  & <dbl> & <dbl> & <dbl> & <dbl> & <dbl> & <dbl> & <dbl> & <dbl> & <dbl> & <dbl>\\\\\n",
       "\\hline\n",
       "\t109 & 221.4937 & 158.49211 & 139.90911 & 155.7404 & 189.4430 & 213.8895 & 185.06713 & 211.32260 & 371.21790 & 517.6092\\\\\n",
       "\t110 & 212.8240 & 109.53846 &  88.59296 & 124.1767 & 176.6571 & 197.2031 & 113.33114 &  55.83492 & 147.71278 & 302.4182\\\\\n",
       "\t111 & 238.3980 & 136.69881 & 118.08474 & 155.6654 & 208.1468 & 221.1718 & 111.27477 &  45.71994 & 168.12143 & 320.7530\\\\\n",
       "\t112 & 201.5028 & 116.90770 & 107.53939 & 149.6917 & 204.4011 & 224.7080 & 138.38987 &  83.56350 & 184.41790 & 330.6723\\\\\n",
       "\t113 & 180.7478 & 171.65324 & 173.44076 & 181.2109 & 187.4011 & 178.5188 & 130.89638 & 108.15160 & 170.64090 & 292.4629\\\\\n",
       "\t114 & 189.6896 & 119.44316 & 108.37799 & 139.2420 & 183.4065 & 218.3921 & 217.40827 & 180.70765 & 143.02320 & 221.6167\\\\\n",
       "\t115 & 182.7741 & 156.08719 & 152.56949 & 164.8150 & 180.9197 & 186.9277 & 161.86288 & 143.21560 & 177.34070 & 286.8962\\\\\n",
       "\t116 & 236.7865 & 210.72689 & 191.10183 & 172.9813 & 156.0553 & 127.9070 &  69.41510 &  38.07293 &  97.67516 & 264.6588\\\\\n",
       "\t117 & 231.9190 & 205.93345 & 193.96003 & 188.1928 & 181.6982 & 154.2772 &  72.52431 &  29.35146 & 110.81448 & 268.9544\\\\\n",
       "\t118 & 190.5171 &  90.42965 &  76.21068 & 120.2346 & 178.5758 & 199.6624 & 106.39157 &  35.00954 & 118.50332 & 283.9165\\\\\n",
       "\\end{tabular}\n"
      ],
      "text/markdown": [
       "\n",
       "A data.frame: 10 × 10\n",
       "\n",
       "| <!--/--> | V1 &lt;dbl&gt; | V2 &lt;dbl&gt; | V3 &lt;dbl&gt; | V4 &lt;dbl&gt; | V5 &lt;dbl&gt; | V6 &lt;dbl&gt; | V7 &lt;dbl&gt; | V8 &lt;dbl&gt; | V9 &lt;dbl&gt; | V10 &lt;dbl&gt; |\n",
       "|---|---|---|---|---|---|---|---|---|---|---|\n",
       "| 109 | 221.4937 | 158.49211 | 139.90911 | 155.7404 | 189.4430 | 213.8895 | 185.06713 | 211.32260 | 371.21790 | 517.6092 |\n",
       "| 110 | 212.8240 | 109.53846 |  88.59296 | 124.1767 | 176.6571 | 197.2031 | 113.33114 |  55.83492 | 147.71278 | 302.4182 |\n",
       "| 111 | 238.3980 | 136.69881 | 118.08474 | 155.6654 | 208.1468 | 221.1718 | 111.27477 |  45.71994 | 168.12143 | 320.7530 |\n",
       "| 112 | 201.5028 | 116.90770 | 107.53939 | 149.6917 | 204.4011 | 224.7080 | 138.38987 |  83.56350 | 184.41790 | 330.6723 |\n",
       "| 113 | 180.7478 | 171.65324 | 173.44076 | 181.2109 | 187.4011 | 178.5188 | 130.89638 | 108.15160 | 170.64090 | 292.4629 |\n",
       "| 114 | 189.6896 | 119.44316 | 108.37799 | 139.2420 | 183.4065 | 218.3921 | 217.40827 | 180.70765 | 143.02320 | 221.6167 |\n",
       "| 115 | 182.7741 | 156.08719 | 152.56949 | 164.8150 | 180.9197 | 186.9277 | 161.86288 | 143.21560 | 177.34070 | 286.8962 |\n",
       "| 116 | 236.7865 | 210.72689 | 191.10183 | 172.9813 | 156.0553 | 127.9070 |  69.41510 |  38.07293 |  97.67516 | 264.6588 |\n",
       "| 117 | 231.9190 | 205.93345 | 193.96003 | 188.1928 | 181.6982 | 154.2772 |  72.52431 |  29.35146 | 110.81448 | 268.9544 |\n",
       "| 118 | 190.5171 |  90.42965 |  76.21068 | 120.2346 | 178.5758 | 199.6624 | 106.39157 |  35.00954 | 118.50332 | 283.9165 |\n",
       "\n"
      ],
      "text/plain": [
       "    V1       V2        V3        V4       V5       V6       V7        V8       \n",
       "109 221.4937 158.49211 139.90911 155.7404 189.4430 213.8895 185.06713 211.32260\n",
       "110 212.8240 109.53846  88.59296 124.1767 176.6571 197.2031 113.33114  55.83492\n",
       "111 238.3980 136.69881 118.08474 155.6654 208.1468 221.1718 111.27477  45.71994\n",
       "112 201.5028 116.90770 107.53939 149.6917 204.4011 224.7080 138.38987  83.56350\n",
       "113 180.7478 171.65324 173.44076 181.2109 187.4011 178.5188 130.89638 108.15160\n",
       "114 189.6896 119.44316 108.37799 139.2420 183.4065 218.3921 217.40827 180.70765\n",
       "115 182.7741 156.08719 152.56949 164.8150 180.9197 186.9277 161.86288 143.21560\n",
       "116 236.7865 210.72689 191.10183 172.9813 156.0553 127.9070  69.41510  38.07293\n",
       "117 231.9190 205.93345 193.96003 188.1928 181.6982 154.2772  72.52431  29.35146\n",
       "118 190.5171  90.42965  76.21068 120.2346 178.5758 199.6624 106.39157  35.00954\n",
       "    V9        V10     \n",
       "109 371.21790 517.6092\n",
       "110 147.71278 302.4182\n",
       "111 168.12143 320.7530\n",
       "112 184.41790 330.6723\n",
       "113 170.64090 292.4629\n",
       "114 143.02320 221.6167\n",
       "115 177.34070 286.8962\n",
       "116  97.67516 264.6588\n",
       "117 110.81448 268.9544\n",
       "118 118.50332 283.9165"
      ]
     },
     "metadata": {},
     "output_type": "display_data"
    }
   ],
   "source": [
    "ricepn[1:10,1:10]"
   ]
  },
  {
   "cell_type": "code",
   "execution_count": 138,
   "metadata": {},
   "outputs": [],
   "source": [
    "#CropPhenology\n",
    "l = list()\n",
    "for (i in 1:nrow(ricepn)){\n",
    "    l[i] <- list(SinglePhenology(as.numeric(ricepn[i,]),Percentage=20))\n",
    "}"
   ]
  },
  {
   "cell_type": "markdown",
   "metadata": {},
   "source": [
    "Smoothing in most cases eliminates spatial and temporal variability that may be an important information source to understand enviromental conditions that affect crop development. An obvious consequence of smoothing is the reduction of NDVI peaks, hence potentially removing crop-relevant information and affecting the calculation of the metrics, particullary in the identification of the start, maximum and end of growth."
   ]
  },
  {
   "cell_type": "code",
   "execution_count": 139,
   "metadata": {},
   "outputs": [
    {
     "data": {
      "text/html": [
       "<table>\n",
       "<caption>A data.frame: 10 × 15</caption>\n",
       "<thead>\n",
       "\t<tr><th></th><th scope=col>OnsetV</th><th scope=col>OnsetT</th><th scope=col>MAxV</th><th scope=col>MaxT</th><th scope=col>OffsetV</th><th scope=col>OffsetT</th><th scope=col>LengthGS</th><th scope=col>BeforeMaxT</th><th scope=col>AfterMaxT</th><th scope=col>GreenUpSlope</th><th scope=col>BrownDownSlope</th><th scope=col>TINDVI</th><th scope=col>TINDVIBeforeMax</th><th scope=col>TINDVIAfeterMax</th><th scope=col>Assymetry</th></tr>\n",
       "\t<tr><th></th><th scope=col>&lt;dbl&gt;</th><th scope=col>&lt;dbl&gt;</th><th scope=col>&lt;dbl&gt;</th><th scope=col>&lt;dbl&gt;</th><th scope=col>&lt;dbl&gt;</th><th scope=col>&lt;dbl&gt;</th><th scope=col>&lt;dbl&gt;</th><th scope=col>&lt;dbl&gt;</th><th scope=col>&lt;dbl&gt;</th><th scope=col>&lt;dbl&gt;</th><th scope=col>&lt;dbl&gt;</th><th scope=col>&lt;dbl&gt;</th><th scope=col>&lt;dbl&gt;</th><th scope=col>&lt;dbl&gt;</th><th scope=col>&lt;dbl&gt;</th></tr>\n",
       "</thead>\n",
       "<tbody>\n",
       "\t<tr><th scope=row>109</th><td>167.77013</td><td>36</td><td>855.7260</td><td>155</td><td>214.4254</td><td>246</td><td>210</td><td>119</td><td>91</td><td> 5.781142</td><td>7.047259</td><td>58492.66</td><td>55907.66</td><td>114376.99</td><td>  2584.996</td></tr>\n",
       "\t<tr><th scope=row>110</th><td> 63.40426</td><td>74</td><td>883.9883</td><td>155</td><td>205.4246</td><td>246</td><td>172</td><td> 81</td><td>91</td><td>10.130667</td><td>7.456743</td><td>44158.56</td><td>59340.70</td><td>103428.25</td><td>-15182.133</td></tr>\n",
       "\t<tr><th scope=row>111</th><td> 50.59565</td><td>73</td><td>904.2549</td><td>154</td><td>218.9646</td><td>246</td><td>173</td><td> 81</td><td>92</td><td>10.539003</td><td>7.448807</td><td>43987.32</td><td>60501.03</td><td>104404.17</td><td>-16513.711</td></tr>\n",
       "\t<tr><th scope=row>112</th><td> 93.03092</td><td>74</td><td>883.0690</td><td>154</td><td>180.2379</td><td>246</td><td>172</td><td> 80</td><td>92</td><td> 9.875476</td><td>7.639468</td><td>44491.10</td><td>55642.50</td><td>100089.99</td><td>-11151.406</td></tr>\n",
       "\t<tr><th scope=row>113</th><td>123.88783</td><td>76</td><td>918.8240</td><td>153</td><td>202.6775</td><td>246</td><td>170</td><td> 77</td><td>93</td><td>10.323847</td><td>7.700500</td><td>43204.46</td><td>55314.56</td><td> 98479.63</td><td>-12110.102</td></tr>\n",
       "\t<tr><th scope=row>114</th><td>127.88068</td><td>29</td><td>927.0844</td><td>153</td><td>195.3630</td><td>241</td><td>212</td><td>124</td><td>88</td><td> 6.445191</td><td>8.315016</td><td>50461.16</td><td>55054.51</td><td>105481.92</td><td> -4593.347</td></tr>\n",
       "\t<tr><th scope=row>115</th><td>170.93003</td><td>81</td><td>881.1470</td><td>154</td><td>207.1829</td><td>246</td><td>165</td><td> 73</td><td>92</td><td> 9.729000</td><td>7.325697</td><td>41551.86</td><td>53699.65</td><td> 95233.38</td><td>-12147.787</td></tr>\n",
       "\t<tr><th scope=row>116</th><td> 41.85173</td><td>74</td><td>916.6509</td><td>151</td><td>188.1520</td><td>246</td><td>172</td><td> 77</td><td>95</td><td>11.361029</td><td>7.668410</td><td>42666.17</td><td>59301.35</td><td>101894.37</td><td>-16635.177</td></tr>\n",
       "\t<tr><th scope=row>117</th><td> 32.02429</td><td>73</td><td>933.4703</td><td>154</td><td>194.9326</td><td>246</td><td>173</td><td> 81</td><td>92</td><td>11.128963</td><td>8.027583</td><td>44039.49</td><td>62300.80</td><td>106258.83</td><td>-18261.307</td></tr>\n",
       "\t<tr><th scope=row>118</th><td> 40.00018</td><td>74</td><td>895.2584</td><td>154</td><td>195.1855</td><td>246</td><td>172</td><td> 80</td><td>92</td><td>10.690727</td><td>7.609488</td><td>43338.79</td><td>56284.69</td><td> 99545.89</td><td>-12945.898</td></tr>\n",
       "</tbody>\n",
       "</table>\n"
      ],
      "text/latex": [
       "A data.frame: 10 × 15\n",
       "\\begin{tabular}{r|lllllllllllllll}\n",
       "  & OnsetV & OnsetT & MAxV & MaxT & OffsetV & OffsetT & LengthGS & BeforeMaxT & AfterMaxT & GreenUpSlope & BrownDownSlope & TINDVI & TINDVIBeforeMax & TINDVIAfeterMax & Assymetry\\\\\n",
       "  & <dbl> & <dbl> & <dbl> & <dbl> & <dbl> & <dbl> & <dbl> & <dbl> & <dbl> & <dbl> & <dbl> & <dbl> & <dbl> & <dbl> & <dbl>\\\\\n",
       "\\hline\n",
       "\t109 & 167.77013 & 36 & 855.7260 & 155 & 214.4254 & 246 & 210 & 119 & 91 &  5.781142 & 7.047259 & 58492.66 & 55907.66 & 114376.99 &   2584.996\\\\\n",
       "\t110 &  63.40426 & 74 & 883.9883 & 155 & 205.4246 & 246 & 172 &  81 & 91 & 10.130667 & 7.456743 & 44158.56 & 59340.70 & 103428.25 & -15182.133\\\\\n",
       "\t111 &  50.59565 & 73 & 904.2549 & 154 & 218.9646 & 246 & 173 &  81 & 92 & 10.539003 & 7.448807 & 43987.32 & 60501.03 & 104404.17 & -16513.711\\\\\n",
       "\t112 &  93.03092 & 74 & 883.0690 & 154 & 180.2379 & 246 & 172 &  80 & 92 &  9.875476 & 7.639468 & 44491.10 & 55642.50 & 100089.99 & -11151.406\\\\\n",
       "\t113 & 123.88783 & 76 & 918.8240 & 153 & 202.6775 & 246 & 170 &  77 & 93 & 10.323847 & 7.700500 & 43204.46 & 55314.56 &  98479.63 & -12110.102\\\\\n",
       "\t114 & 127.88068 & 29 & 927.0844 & 153 & 195.3630 & 241 & 212 & 124 & 88 &  6.445191 & 8.315016 & 50461.16 & 55054.51 & 105481.92 &  -4593.347\\\\\n",
       "\t115 & 170.93003 & 81 & 881.1470 & 154 & 207.1829 & 246 & 165 &  73 & 92 &  9.729000 & 7.325697 & 41551.86 & 53699.65 &  95233.38 & -12147.787\\\\\n",
       "\t116 &  41.85173 & 74 & 916.6509 & 151 & 188.1520 & 246 & 172 &  77 & 95 & 11.361029 & 7.668410 & 42666.17 & 59301.35 & 101894.37 & -16635.177\\\\\n",
       "\t117 &  32.02429 & 73 & 933.4703 & 154 & 194.9326 & 246 & 173 &  81 & 92 & 11.128963 & 8.027583 & 44039.49 & 62300.80 & 106258.83 & -18261.307\\\\\n",
       "\t118 &  40.00018 & 74 & 895.2584 & 154 & 195.1855 & 246 & 172 &  80 & 92 & 10.690727 & 7.609488 & 43338.79 & 56284.69 &  99545.89 & -12945.898\\\\\n",
       "\\end{tabular}\n"
      ],
      "text/markdown": [
       "\n",
       "A data.frame: 10 × 15\n",
       "\n",
       "| <!--/--> | OnsetV &lt;dbl&gt; | OnsetT &lt;dbl&gt; | MAxV &lt;dbl&gt; | MaxT &lt;dbl&gt; | OffsetV &lt;dbl&gt; | OffsetT &lt;dbl&gt; | LengthGS &lt;dbl&gt; | BeforeMaxT &lt;dbl&gt; | AfterMaxT &lt;dbl&gt; | GreenUpSlope &lt;dbl&gt; | BrownDownSlope &lt;dbl&gt; | TINDVI &lt;dbl&gt; | TINDVIBeforeMax &lt;dbl&gt; | TINDVIAfeterMax &lt;dbl&gt; | Assymetry &lt;dbl&gt; |\n",
       "|---|---|---|---|---|---|---|---|---|---|---|---|---|---|---|---|\n",
       "| 109 | 167.77013 | 36 | 855.7260 | 155 | 214.4254 | 246 | 210 | 119 | 91 |  5.781142 | 7.047259 | 58492.66 | 55907.66 | 114376.99 |   2584.996 |\n",
       "| 110 |  63.40426 | 74 | 883.9883 | 155 | 205.4246 | 246 | 172 |  81 | 91 | 10.130667 | 7.456743 | 44158.56 | 59340.70 | 103428.25 | -15182.133 |\n",
       "| 111 |  50.59565 | 73 | 904.2549 | 154 | 218.9646 | 246 | 173 |  81 | 92 | 10.539003 | 7.448807 | 43987.32 | 60501.03 | 104404.17 | -16513.711 |\n",
       "| 112 |  93.03092 | 74 | 883.0690 | 154 | 180.2379 | 246 | 172 |  80 | 92 |  9.875476 | 7.639468 | 44491.10 | 55642.50 | 100089.99 | -11151.406 |\n",
       "| 113 | 123.88783 | 76 | 918.8240 | 153 | 202.6775 | 246 | 170 |  77 | 93 | 10.323847 | 7.700500 | 43204.46 | 55314.56 |  98479.63 | -12110.102 |\n",
       "| 114 | 127.88068 | 29 | 927.0844 | 153 | 195.3630 | 241 | 212 | 124 | 88 |  6.445191 | 8.315016 | 50461.16 | 55054.51 | 105481.92 |  -4593.347 |\n",
       "| 115 | 170.93003 | 81 | 881.1470 | 154 | 207.1829 | 246 | 165 |  73 | 92 |  9.729000 | 7.325697 | 41551.86 | 53699.65 |  95233.38 | -12147.787 |\n",
       "| 116 |  41.85173 | 74 | 916.6509 | 151 | 188.1520 | 246 | 172 |  77 | 95 | 11.361029 | 7.668410 | 42666.17 | 59301.35 | 101894.37 | -16635.177 |\n",
       "| 117 |  32.02429 | 73 | 933.4703 | 154 | 194.9326 | 246 | 173 |  81 | 92 | 11.128963 | 8.027583 | 44039.49 | 62300.80 | 106258.83 | -18261.307 |\n",
       "| 118 |  40.00018 | 74 | 895.2584 | 154 | 195.1855 | 246 | 172 |  80 | 92 | 10.690727 | 7.609488 | 43338.79 | 56284.69 |  99545.89 | -12945.898 |\n",
       "\n"
      ],
      "text/plain": [
       "    OnsetV    OnsetT MAxV     MaxT OffsetV  OffsetT LengthGS BeforeMaxT\n",
       "109 167.77013 36     855.7260 155  214.4254 246     210      119       \n",
       "110  63.40426 74     883.9883 155  205.4246 246     172       81       \n",
       "111  50.59565 73     904.2549 154  218.9646 246     173       81       \n",
       "112  93.03092 74     883.0690 154  180.2379 246     172       80       \n",
       "113 123.88783 76     918.8240 153  202.6775 246     170       77       \n",
       "114 127.88068 29     927.0844 153  195.3630 241     212      124       \n",
       "115 170.93003 81     881.1470 154  207.1829 246     165       73       \n",
       "116  41.85173 74     916.6509 151  188.1520 246     172       77       \n",
       "117  32.02429 73     933.4703 154  194.9326 246     173       81       \n",
       "118  40.00018 74     895.2584 154  195.1855 246     172       80       \n",
       "    AfterMaxT GreenUpSlope BrownDownSlope TINDVI   TINDVIBeforeMax\n",
       "109 91         5.781142    7.047259       58492.66 55907.66       \n",
       "110 91        10.130667    7.456743       44158.56 59340.70       \n",
       "111 92        10.539003    7.448807       43987.32 60501.03       \n",
       "112 92         9.875476    7.639468       44491.10 55642.50       \n",
       "113 93        10.323847    7.700500       43204.46 55314.56       \n",
       "114 88         6.445191    8.315016       50461.16 55054.51       \n",
       "115 92         9.729000    7.325697       41551.86 53699.65       \n",
       "116 95        11.361029    7.668410       42666.17 59301.35       \n",
       "117 92        11.128963    8.027583       44039.49 62300.80       \n",
       "118 92        10.690727    7.609488       43338.79 56284.69       \n",
       "    TINDVIAfeterMax Assymetry \n",
       "109 114376.99         2584.996\n",
       "110 103428.25       -15182.133\n",
       "111 104404.17       -16513.711\n",
       "112 100089.99       -11151.406\n",
       "113  98479.63       -12110.102\n",
       "114 105481.92        -4593.347\n",
       "115  95233.38       -12147.787\n",
       "116 101894.37       -16635.177\n",
       "117 106258.83       -18261.307\n",
       "118  99545.89       -12945.898"
      ]
     },
     "metadata": {},
     "output_type": "display_data"
    }
   ],
   "source": [
    "rnam <- c('OnsetV', 'OnsetT','MAxV', 'MaxT', 'OffsetV', 'OffsetT','LengthGS', 'BeforeMaxT', 'AfterMaxT', 'GreenUpSlope', 'BrownDownSlope',  'TINDVI', 'TINDVIBeforeMax', 'TINDVIAfeterMax', 'Assymetry')\n",
    "cnam <- as.numeric(rownames(rice))\n",
    "crph <- as.data.frame(l, row.names = rnam, col.names=cnam)\n",
    "crph <- t(as.data.frame(crph))\n",
    "row.names(crph) <- obj\n",
    "crph <- as.data.frame(crph)\n",
    "crph[1:10,1:ncol(crph)]"
   ]
  },
  {
   "cell_type": "code",
   "execution_count": 51,
   "metadata": {},
   "outputs": [],
   "source": [
    "write.csv(crph, \"C:/Users/User/Documents/NOA_e-shape/Korea-Data_Thanassis/wetransfer-09e80a/croppheno.csv\",row.names = T)"
   ]
  },
  {
   "cell_type": "code",
   "execution_count": 93,
   "metadata": {},
   "outputs": [],
   "source": [
    "#Extract DOYs from TIMESAT output\n",
    "space <- abs(as.numeric(format(as.Date(rice$daily[1],format=\"%Y-%m-%d\"), format = \"%d\"))-as.numeric(format(as.Date(rice$daily[2],format=\"%Y-%m-%d\"), format = \"%d\")))\n",
    "first_doy <- as.numeric(strftime(rice$daily[1], format = \"%j\"))\n",
    "phenolist$time_start <- round(phenolist$time_start * space + first_doy,0)\n",
    "phenolist$time_end <- round(phenolist$time_end * space + first_doy,0)\n",
    "phenolist$time_peak <- round(phenolist$time_peak * space + first_doy,0)\n",
    "phenolist$len <- phenolist$time_end - phenolist$time_start"
   ]
  },
  {
   "cell_type": "code",
   "execution_count": 103,
   "metadata": {},
   "outputs": [],
   "source": [
    "ds <- format(strptime(phenolist$time_start, format=\"%j\"), format=\"%m-%d\")\n",
    "de <- format(strptime(phenolist$time_end, format=\"%j\"), format=\"%m-%d\")\n",
    "d <- cbind(ds,de)\n",
    "colnames(d) <- c('day_start','day_end')\n",
    "phenolistn <- cbind(d,phenolist)\n",
    "phenolistn <- phenolistn[-c(3:6)]"
   ]
  },
  {
   "cell_type": "code",
   "execution_count": 104,
   "metadata": {},
   "outputs": [
    {
     "data": {
      "text/html": [
       "<table>\n",
       "<caption>A data.frame: 10 × 14</caption>\n",
       "<thead>\n",
       "\t<tr><th></th><th scope=col>day_start</th><th scope=col>day_end</th><th scope=col>time_end</th><th scope=col>time_peak</th><th scope=col>len</th><th scope=col>val_start</th><th scope=col>val_end</th><th scope=col>val_peak</th><th scope=col>val_base</th><th scope=col>ampl</th><th scope=col>der_l</th><th scope=col>der_r</th><th scope=col>integ_large</th><th scope=col>integ_small</th></tr>\n",
       "\t<tr><th></th><th scope=col>&lt;fct&gt;</th><th scope=col>&lt;fct&gt;</th><th scope=col>&lt;dbl&gt;</th><th scope=col>&lt;dbl&gt;</th><th scope=col>&lt;dbl&gt;</th><th scope=col>&lt;dbl&gt;</th><th scope=col>&lt;dbl&gt;</th><th scope=col>&lt;dbl&gt;</th><th scope=col>&lt;dbl&gt;</th><th scope=col>&lt;dbl&gt;</th><th scope=col>&lt;dbl&gt;</th><th scope=col>&lt;dbl&gt;</th><th scope=col>&lt;dbl&gt;</th><th scope=col>&lt;dbl&gt;</th></tr>\n",
       "</thead>\n",
       "<tbody>\n",
       "\t<tr><th scope=row>109</th><td>06-21</td><td>10-17</td><td>290</td><td>234</td><td>118</td><td>500.1835</td><td>500.1835</td><td>842.1780</td><td>158.18912</td><td>683.9888</td><td> 87.20371</td><td>110.41296</td><td>9541.217</td><td>7326.570</td></tr>\n",
       "\t<tr><th scope=row>110</th><td>07-02</td><td>10-21</td><td>294</td><td>239</td><td>111</td><td>495.5674</td><td>495.5674</td><td>871.0121</td><td>120.12262</td><td>750.8895</td><td>126.73415</td><td>116.23748</td><td>9192.518</td><td>7630.924</td></tr>\n",
       "\t<tr><th scope=row>111</th><td>07-04</td><td>10-20</td><td>293</td><td>239</td><td>108</td><td>511.7146</td><td>511.7146</td><td>890.6611</td><td>132.76816</td><td>757.8929</td><td>128.01216</td><td>107.86961</td><td>9222.448</td><td>7496.462</td></tr>\n",
       "\t<tr><th scope=row>112</th><td>07-03</td><td>10-15</td><td>288</td><td>235</td><td>104</td><td>508.3320</td><td>501.5473</td><td>869.3218</td><td>140.55751</td><td>728.7643</td><td>122.62640</td><td>107.04610</td><td>8506.385</td><td>6819.695</td></tr>\n",
       "\t<tr><th scope=row>113</th><td>07-05</td><td>10-11</td><td>284</td><td>235</td><td> 98</td><td>517.0316</td><td>517.0316</td><td>898.8629</td><td>135.20030</td><td>763.6626</td><td>130.70656</td><td>123.21746</td><td>8543.068</td><td>6920.665</td></tr>\n",
       "\t<tr><th scope=row>114</th><td>07-07</td><td>10-12</td><td>285</td><td>236</td><td> 97</td><td>515.9840</td><td>515.9840</td><td>895.7818</td><td>136.18622</td><td>759.5956</td><td>136.83629</td><td>121.18666</td><td>8519.909</td><td>6885.674</td></tr>\n",
       "\t<tr><th scope=row>115</th><td>07-04</td><td>10-13</td><td>286</td><td>235</td><td>101</td><td>500.0210</td><td>500.0210</td><td>845.9667</td><td>154.07523</td><td>691.8915</td><td>116.03899</td><td>105.77312</td><td>8215.723</td><td>6366.820</td></tr>\n",
       "\t<tr><th scope=row>116</th><td>06-29</td><td>10-17</td><td>290</td><td>232</td><td>110</td><td>480.5396</td><td>480.5396</td><td>894.4420</td><td> 66.63705</td><td>827.8050</td><td>165.72737</td><td> 99.19761</td><td>9204.847</td><td>8338.564</td></tr>\n",
       "\t<tr><th scope=row>117</th><td>07-02</td><td>10-23</td><td>296</td><td>239</td><td>113</td><td>495.0048</td><td>495.0048</td><td>908.3886</td><td> 81.62102</td><td>826.7676</td><td>145.48515</td><td>112.61842</td><td>9536.738</td><td>8475.665</td></tr>\n",
       "\t<tr><th scope=row>118</th><td>07-01</td><td>10-16</td><td>289</td><td>235</td><td>107</td><td>489.2664</td><td>489.2664</td><td>869.4349</td><td>109.09793</td><td>760.3369</td><td>136.97014</td><td>105.69049</td><td>8914.155</td><td>7495.882</td></tr>\n",
       "</tbody>\n",
       "</table>\n"
      ],
      "text/latex": [
       "A data.frame: 10 × 14\n",
       "\\begin{tabular}{r|llllllllllllll}\n",
       "  & day\\_start & day\\_end & time\\_end & time\\_peak & len & val\\_start & val\\_end & val\\_peak & val\\_base & ampl & der\\_l & der\\_r & integ\\_large & integ\\_small\\\\\n",
       "  & <fct> & <fct> & <dbl> & <dbl> & <dbl> & <dbl> & <dbl> & <dbl> & <dbl> & <dbl> & <dbl> & <dbl> & <dbl> & <dbl>\\\\\n",
       "\\hline\n",
       "\t109 & 06-21 & 10-17 & 290 & 234 & 118 & 500.1835 & 500.1835 & 842.1780 & 158.18912 & 683.9888 &  87.20371 & 110.41296 & 9541.217 & 7326.570\\\\\n",
       "\t110 & 07-02 & 10-21 & 294 & 239 & 111 & 495.5674 & 495.5674 & 871.0121 & 120.12262 & 750.8895 & 126.73415 & 116.23748 & 9192.518 & 7630.924\\\\\n",
       "\t111 & 07-04 & 10-20 & 293 & 239 & 108 & 511.7146 & 511.7146 & 890.6611 & 132.76816 & 757.8929 & 128.01216 & 107.86961 & 9222.448 & 7496.462\\\\\n",
       "\t112 & 07-03 & 10-15 & 288 & 235 & 104 & 508.3320 & 501.5473 & 869.3218 & 140.55751 & 728.7643 & 122.62640 & 107.04610 & 8506.385 & 6819.695\\\\\n",
       "\t113 & 07-05 & 10-11 & 284 & 235 &  98 & 517.0316 & 517.0316 & 898.8629 & 135.20030 & 763.6626 & 130.70656 & 123.21746 & 8543.068 & 6920.665\\\\\n",
       "\t114 & 07-07 & 10-12 & 285 & 236 &  97 & 515.9840 & 515.9840 & 895.7818 & 136.18622 & 759.5956 & 136.83629 & 121.18666 & 8519.909 & 6885.674\\\\\n",
       "\t115 & 07-04 & 10-13 & 286 & 235 & 101 & 500.0210 & 500.0210 & 845.9667 & 154.07523 & 691.8915 & 116.03899 & 105.77312 & 8215.723 & 6366.820\\\\\n",
       "\t116 & 06-29 & 10-17 & 290 & 232 & 110 & 480.5396 & 480.5396 & 894.4420 &  66.63705 & 827.8050 & 165.72737 &  99.19761 & 9204.847 & 8338.564\\\\\n",
       "\t117 & 07-02 & 10-23 & 296 & 239 & 113 & 495.0048 & 495.0048 & 908.3886 &  81.62102 & 826.7676 & 145.48515 & 112.61842 & 9536.738 & 8475.665\\\\\n",
       "\t118 & 07-01 & 10-16 & 289 & 235 & 107 & 489.2664 & 489.2664 & 869.4349 & 109.09793 & 760.3369 & 136.97014 & 105.69049 & 8914.155 & 7495.882\\\\\n",
       "\\end{tabular}\n"
      ],
      "text/markdown": [
       "\n",
       "A data.frame: 10 × 14\n",
       "\n",
       "| <!--/--> | day_start &lt;fct&gt; | day_end &lt;fct&gt; | time_end &lt;dbl&gt; | time_peak &lt;dbl&gt; | len &lt;dbl&gt; | val_start &lt;dbl&gt; | val_end &lt;dbl&gt; | val_peak &lt;dbl&gt; | val_base &lt;dbl&gt; | ampl &lt;dbl&gt; | der_l &lt;dbl&gt; | der_r &lt;dbl&gt; | integ_large &lt;dbl&gt; | integ_small &lt;dbl&gt; |\n",
       "|---|---|---|---|---|---|---|---|---|---|---|---|---|---|---|\n",
       "| 109 | 06-21 | 10-17 | 290 | 234 | 118 | 500.1835 | 500.1835 | 842.1780 | 158.18912 | 683.9888 |  87.20371 | 110.41296 | 9541.217 | 7326.570 |\n",
       "| 110 | 07-02 | 10-21 | 294 | 239 | 111 | 495.5674 | 495.5674 | 871.0121 | 120.12262 | 750.8895 | 126.73415 | 116.23748 | 9192.518 | 7630.924 |\n",
       "| 111 | 07-04 | 10-20 | 293 | 239 | 108 | 511.7146 | 511.7146 | 890.6611 | 132.76816 | 757.8929 | 128.01216 | 107.86961 | 9222.448 | 7496.462 |\n",
       "| 112 | 07-03 | 10-15 | 288 | 235 | 104 | 508.3320 | 501.5473 | 869.3218 | 140.55751 | 728.7643 | 122.62640 | 107.04610 | 8506.385 | 6819.695 |\n",
       "| 113 | 07-05 | 10-11 | 284 | 235 |  98 | 517.0316 | 517.0316 | 898.8629 | 135.20030 | 763.6626 | 130.70656 | 123.21746 | 8543.068 | 6920.665 |\n",
       "| 114 | 07-07 | 10-12 | 285 | 236 |  97 | 515.9840 | 515.9840 | 895.7818 | 136.18622 | 759.5956 | 136.83629 | 121.18666 | 8519.909 | 6885.674 |\n",
       "| 115 | 07-04 | 10-13 | 286 | 235 | 101 | 500.0210 | 500.0210 | 845.9667 | 154.07523 | 691.8915 | 116.03899 | 105.77312 | 8215.723 | 6366.820 |\n",
       "| 116 | 06-29 | 10-17 | 290 | 232 | 110 | 480.5396 | 480.5396 | 894.4420 |  66.63705 | 827.8050 | 165.72737 |  99.19761 | 9204.847 | 8338.564 |\n",
       "| 117 | 07-02 | 10-23 | 296 | 239 | 113 | 495.0048 | 495.0048 | 908.3886 |  81.62102 | 826.7676 | 145.48515 | 112.61842 | 9536.738 | 8475.665 |\n",
       "| 118 | 07-01 | 10-16 | 289 | 235 | 107 | 489.2664 | 489.2664 | 869.4349 | 109.09793 | 760.3369 | 136.97014 | 105.69049 | 8914.155 | 7495.882 |\n",
       "\n"
      ],
      "text/plain": [
       "    day_start day_end time_end time_peak len val_start val_end  val_peak\n",
       "109 06-21     10-17   290      234       118 500.1835  500.1835 842.1780\n",
       "110 07-02     10-21   294      239       111 495.5674  495.5674 871.0121\n",
       "111 07-04     10-20   293      239       108 511.7146  511.7146 890.6611\n",
       "112 07-03     10-15   288      235       104 508.3320  501.5473 869.3218\n",
       "113 07-05     10-11   284      235        98 517.0316  517.0316 898.8629\n",
       "114 07-07     10-12   285      236        97 515.9840  515.9840 895.7818\n",
       "115 07-04     10-13   286      235       101 500.0210  500.0210 845.9667\n",
       "116 06-29     10-17   290      232       110 480.5396  480.5396 894.4420\n",
       "117 07-02     10-23   296      239       113 495.0048  495.0048 908.3886\n",
       "118 07-01     10-16   289      235       107 489.2664  489.2664 869.4349\n",
       "    val_base  ampl     der_l     der_r     integ_large integ_small\n",
       "109 158.18912 683.9888  87.20371 110.41296 9541.217    7326.570   \n",
       "110 120.12262 750.8895 126.73415 116.23748 9192.518    7630.924   \n",
       "111 132.76816 757.8929 128.01216 107.86961 9222.448    7496.462   \n",
       "112 140.55751 728.7643 122.62640 107.04610 8506.385    6819.695   \n",
       "113 135.20030 763.6626 130.70656 123.21746 8543.068    6920.665   \n",
       "114 136.18622 759.5956 136.83629 121.18666 8519.909    6885.674   \n",
       "115 154.07523 691.8915 116.03899 105.77312 8215.723    6366.820   \n",
       "116  66.63705 827.8050 165.72737  99.19761 9204.847    8338.564   \n",
       "117  81.62102 826.7676 145.48515 112.61842 9536.738    8475.665   \n",
       "118 109.09793 760.3369 136.97014 105.69049 8914.155    7495.882   "
      ]
     },
     "metadata": {},
     "output_type": "display_data"
    }
   ],
   "source": [
    "phenolistn[1:10,1:ncol(phenolistn)]"
   ]
  },
  {
   "cell_type": "code",
   "execution_count": 140,
   "metadata": {},
   "outputs": [],
   "source": [
    "#Extract DOYs from CropPhenology output\n",
    "crph$OnsetT\t <- round(crph$OnsetT + first_doy,0)\n",
    "crph$OffsetT <- round(crph$OffsetT + first_doy,0)\n",
    "crph$MaxT <- round(crph$MaxT + first_doy,0)\n",
    "crph$LengthGS <- crph$OffsetT - crph$OnsetT"
   ]
  },
  {
   "cell_type": "code",
   "execution_count": 141,
   "metadata": {},
   "outputs": [],
   "source": [
    "ds <- format(strptime(crph$OnsetT, format=\"%j\"), format=\"%m-%d\")\n",
    "de <- format(strptime(crph$OffsetT, format=\"%j\"), format=\"%m-%d\")\n",
    "d <- cbind(ds,de)\n",
    "colnames(d) <- c('day_start','day_end')\n",
    "crph <- cbind(d,crph)"
   ]
  },
  {
   "cell_type": "code",
   "execution_count": 142,
   "metadata": {},
   "outputs": [
    {
     "data": {
      "text/html": [
       "<table>\n",
       "<caption>A data.frame: 10 × 17</caption>\n",
       "<thead>\n",
       "\t<tr><th></th><th scope=col>day_start</th><th scope=col>day_end</th><th scope=col>OnsetV</th><th scope=col>OnsetT</th><th scope=col>MAxV</th><th scope=col>MaxT</th><th scope=col>OffsetV</th><th scope=col>OffsetT</th><th scope=col>LengthGS</th><th scope=col>BeforeMaxT</th><th scope=col>AfterMaxT</th><th scope=col>GreenUpSlope</th><th scope=col>BrownDownSlope</th><th scope=col>TINDVI</th><th scope=col>TINDVIBeforeMax</th><th scope=col>TINDVIAfeterMax</th><th scope=col>Assymetry</th></tr>\n",
       "\t<tr><th></th><th scope=col>&lt;fct&gt;</th><th scope=col>&lt;fct&gt;</th><th scope=col>&lt;dbl&gt;</th><th scope=col>&lt;dbl&gt;</th><th scope=col>&lt;dbl&gt;</th><th scope=col>&lt;dbl&gt;</th><th scope=col>&lt;dbl&gt;</th><th scope=col>&lt;dbl&gt;</th><th scope=col>&lt;dbl&gt;</th><th scope=col>&lt;dbl&gt;</th><th scope=col>&lt;dbl&gt;</th><th scope=col>&lt;dbl&gt;</th><th scope=col>&lt;dbl&gt;</th><th scope=col>&lt;dbl&gt;</th><th scope=col>&lt;dbl&gt;</th><th scope=col>&lt;dbl&gt;</th><th scope=col>&lt;dbl&gt;</th></tr>\n",
       "</thead>\n",
       "<tbody>\n",
       "\t<tr><th scope=row>109</th><td>04-15</td><td>11-11</td><td>167.77013</td><td>105</td><td>855.7260</td><td>224</td><td>214.4254</td><td>315</td><td>210</td><td>119</td><td>91</td><td> 5.781142</td><td>7.047259</td><td>58492.66</td><td>55907.66</td><td>114376.99</td><td>  2584.996</td></tr>\n",
       "\t<tr><th scope=row>110</th><td>05-23</td><td>11-11</td><td> 63.40426</td><td>143</td><td>883.9883</td><td>224</td><td>205.4246</td><td>315</td><td>172</td><td> 81</td><td>91</td><td>10.130667</td><td>7.456743</td><td>44158.56</td><td>59340.70</td><td>103428.25</td><td>-15182.133</td></tr>\n",
       "\t<tr><th scope=row>111</th><td>05-22</td><td>11-11</td><td> 50.59565</td><td>142</td><td>904.2549</td><td>223</td><td>218.9646</td><td>315</td><td>173</td><td> 81</td><td>92</td><td>10.539003</td><td>7.448807</td><td>43987.32</td><td>60501.03</td><td>104404.17</td><td>-16513.711</td></tr>\n",
       "\t<tr><th scope=row>112</th><td>05-23</td><td>11-11</td><td> 93.03092</td><td>143</td><td>883.0690</td><td>223</td><td>180.2379</td><td>315</td><td>172</td><td> 80</td><td>92</td><td> 9.875476</td><td>7.639468</td><td>44491.10</td><td>55642.50</td><td>100089.99</td><td>-11151.406</td></tr>\n",
       "\t<tr><th scope=row>113</th><td>05-25</td><td>11-11</td><td>123.88783</td><td>145</td><td>918.8240</td><td>222</td><td>202.6775</td><td>315</td><td>170</td><td> 77</td><td>93</td><td>10.323847</td><td>7.700500</td><td>43204.46</td><td>55314.56</td><td> 98479.63</td><td>-12110.102</td></tr>\n",
       "\t<tr><th scope=row>114</th><td>04-08</td><td>11-06</td><td>127.88068</td><td> 98</td><td>927.0844</td><td>222</td><td>195.3630</td><td>310</td><td>212</td><td>124</td><td>88</td><td> 6.445191</td><td>8.315016</td><td>50461.16</td><td>55054.51</td><td>105481.92</td><td> -4593.347</td></tr>\n",
       "\t<tr><th scope=row>115</th><td>05-30</td><td>11-11</td><td>170.93003</td><td>150</td><td>881.1470</td><td>223</td><td>207.1829</td><td>315</td><td>165</td><td> 73</td><td>92</td><td> 9.729000</td><td>7.325697</td><td>41551.86</td><td>53699.65</td><td> 95233.38</td><td>-12147.787</td></tr>\n",
       "\t<tr><th scope=row>116</th><td>05-23</td><td>11-11</td><td> 41.85173</td><td>143</td><td>916.6509</td><td>220</td><td>188.1520</td><td>315</td><td>172</td><td> 77</td><td>95</td><td>11.361029</td><td>7.668410</td><td>42666.17</td><td>59301.35</td><td>101894.37</td><td>-16635.177</td></tr>\n",
       "\t<tr><th scope=row>117</th><td>05-22</td><td>11-11</td><td> 32.02429</td><td>142</td><td>933.4703</td><td>223</td><td>194.9326</td><td>315</td><td>173</td><td> 81</td><td>92</td><td>11.128963</td><td>8.027583</td><td>44039.49</td><td>62300.80</td><td>106258.83</td><td>-18261.307</td></tr>\n",
       "\t<tr><th scope=row>118</th><td>05-23</td><td>11-11</td><td> 40.00018</td><td>143</td><td>895.2584</td><td>223</td><td>195.1855</td><td>315</td><td>172</td><td> 80</td><td>92</td><td>10.690727</td><td>7.609488</td><td>43338.79</td><td>56284.69</td><td> 99545.89</td><td>-12945.898</td></tr>\n",
       "</tbody>\n",
       "</table>\n"
      ],
      "text/latex": [
       "A data.frame: 10 × 17\n",
       "\\begin{tabular}{r|lllllllllllllllll}\n",
       "  & day\\_start & day\\_end & OnsetV & OnsetT & MAxV & MaxT & OffsetV & OffsetT & LengthGS & BeforeMaxT & AfterMaxT & GreenUpSlope & BrownDownSlope & TINDVI & TINDVIBeforeMax & TINDVIAfeterMax & Assymetry\\\\\n",
       "  & <fct> & <fct> & <dbl> & <dbl> & <dbl> & <dbl> & <dbl> & <dbl> & <dbl> & <dbl> & <dbl> & <dbl> & <dbl> & <dbl> & <dbl> & <dbl> & <dbl>\\\\\n",
       "\\hline\n",
       "\t109 & 04-15 & 11-11 & 167.77013 & 105 & 855.7260 & 224 & 214.4254 & 315 & 210 & 119 & 91 &  5.781142 & 7.047259 & 58492.66 & 55907.66 & 114376.99 &   2584.996\\\\\n",
       "\t110 & 05-23 & 11-11 &  63.40426 & 143 & 883.9883 & 224 & 205.4246 & 315 & 172 &  81 & 91 & 10.130667 & 7.456743 & 44158.56 & 59340.70 & 103428.25 & -15182.133\\\\\n",
       "\t111 & 05-22 & 11-11 &  50.59565 & 142 & 904.2549 & 223 & 218.9646 & 315 & 173 &  81 & 92 & 10.539003 & 7.448807 & 43987.32 & 60501.03 & 104404.17 & -16513.711\\\\\n",
       "\t112 & 05-23 & 11-11 &  93.03092 & 143 & 883.0690 & 223 & 180.2379 & 315 & 172 &  80 & 92 &  9.875476 & 7.639468 & 44491.10 & 55642.50 & 100089.99 & -11151.406\\\\\n",
       "\t113 & 05-25 & 11-11 & 123.88783 & 145 & 918.8240 & 222 & 202.6775 & 315 & 170 &  77 & 93 & 10.323847 & 7.700500 & 43204.46 & 55314.56 &  98479.63 & -12110.102\\\\\n",
       "\t114 & 04-08 & 11-06 & 127.88068 &  98 & 927.0844 & 222 & 195.3630 & 310 & 212 & 124 & 88 &  6.445191 & 8.315016 & 50461.16 & 55054.51 & 105481.92 &  -4593.347\\\\\n",
       "\t115 & 05-30 & 11-11 & 170.93003 & 150 & 881.1470 & 223 & 207.1829 & 315 & 165 &  73 & 92 &  9.729000 & 7.325697 & 41551.86 & 53699.65 &  95233.38 & -12147.787\\\\\n",
       "\t116 & 05-23 & 11-11 &  41.85173 & 143 & 916.6509 & 220 & 188.1520 & 315 & 172 &  77 & 95 & 11.361029 & 7.668410 & 42666.17 & 59301.35 & 101894.37 & -16635.177\\\\\n",
       "\t117 & 05-22 & 11-11 &  32.02429 & 142 & 933.4703 & 223 & 194.9326 & 315 & 173 &  81 & 92 & 11.128963 & 8.027583 & 44039.49 & 62300.80 & 106258.83 & -18261.307\\\\\n",
       "\t118 & 05-23 & 11-11 &  40.00018 & 143 & 895.2584 & 223 & 195.1855 & 315 & 172 &  80 & 92 & 10.690727 & 7.609488 & 43338.79 & 56284.69 &  99545.89 & -12945.898\\\\\n",
       "\\end{tabular}\n"
      ],
      "text/markdown": [
       "\n",
       "A data.frame: 10 × 17\n",
       "\n",
       "| <!--/--> | day_start &lt;fct&gt; | day_end &lt;fct&gt; | OnsetV &lt;dbl&gt; | OnsetT &lt;dbl&gt; | MAxV &lt;dbl&gt; | MaxT &lt;dbl&gt; | OffsetV &lt;dbl&gt; | OffsetT &lt;dbl&gt; | LengthGS &lt;dbl&gt; | BeforeMaxT &lt;dbl&gt; | AfterMaxT &lt;dbl&gt; | GreenUpSlope &lt;dbl&gt; | BrownDownSlope &lt;dbl&gt; | TINDVI &lt;dbl&gt; | TINDVIBeforeMax &lt;dbl&gt; | TINDVIAfeterMax &lt;dbl&gt; | Assymetry &lt;dbl&gt; |\n",
       "|---|---|---|---|---|---|---|---|---|---|---|---|---|---|---|---|---|---|\n",
       "| 109 | 04-15 | 11-11 | 167.77013 | 105 | 855.7260 | 224 | 214.4254 | 315 | 210 | 119 | 91 |  5.781142 | 7.047259 | 58492.66 | 55907.66 | 114376.99 |   2584.996 |\n",
       "| 110 | 05-23 | 11-11 |  63.40426 | 143 | 883.9883 | 224 | 205.4246 | 315 | 172 |  81 | 91 | 10.130667 | 7.456743 | 44158.56 | 59340.70 | 103428.25 | -15182.133 |\n",
       "| 111 | 05-22 | 11-11 |  50.59565 | 142 | 904.2549 | 223 | 218.9646 | 315 | 173 |  81 | 92 | 10.539003 | 7.448807 | 43987.32 | 60501.03 | 104404.17 | -16513.711 |\n",
       "| 112 | 05-23 | 11-11 |  93.03092 | 143 | 883.0690 | 223 | 180.2379 | 315 | 172 |  80 | 92 |  9.875476 | 7.639468 | 44491.10 | 55642.50 | 100089.99 | -11151.406 |\n",
       "| 113 | 05-25 | 11-11 | 123.88783 | 145 | 918.8240 | 222 | 202.6775 | 315 | 170 |  77 | 93 | 10.323847 | 7.700500 | 43204.46 | 55314.56 |  98479.63 | -12110.102 |\n",
       "| 114 | 04-08 | 11-06 | 127.88068 |  98 | 927.0844 | 222 | 195.3630 | 310 | 212 | 124 | 88 |  6.445191 | 8.315016 | 50461.16 | 55054.51 | 105481.92 |  -4593.347 |\n",
       "| 115 | 05-30 | 11-11 | 170.93003 | 150 | 881.1470 | 223 | 207.1829 | 315 | 165 |  73 | 92 |  9.729000 | 7.325697 | 41551.86 | 53699.65 |  95233.38 | -12147.787 |\n",
       "| 116 | 05-23 | 11-11 |  41.85173 | 143 | 916.6509 | 220 | 188.1520 | 315 | 172 |  77 | 95 | 11.361029 | 7.668410 | 42666.17 | 59301.35 | 101894.37 | -16635.177 |\n",
       "| 117 | 05-22 | 11-11 |  32.02429 | 142 | 933.4703 | 223 | 194.9326 | 315 | 173 |  81 | 92 | 11.128963 | 8.027583 | 44039.49 | 62300.80 | 106258.83 | -18261.307 |\n",
       "| 118 | 05-23 | 11-11 |  40.00018 | 143 | 895.2584 | 223 | 195.1855 | 315 | 172 |  80 | 92 | 10.690727 | 7.609488 | 43338.79 | 56284.69 |  99545.89 | -12945.898 |\n",
       "\n"
      ],
      "text/plain": [
       "    day_start day_end OnsetV    OnsetT MAxV     MaxT OffsetV  OffsetT LengthGS\n",
       "109 04-15     11-11   167.77013 105    855.7260 224  214.4254 315     210     \n",
       "110 05-23     11-11    63.40426 143    883.9883 224  205.4246 315     172     \n",
       "111 05-22     11-11    50.59565 142    904.2549 223  218.9646 315     173     \n",
       "112 05-23     11-11    93.03092 143    883.0690 223  180.2379 315     172     \n",
       "113 05-25     11-11   123.88783 145    918.8240 222  202.6775 315     170     \n",
       "114 04-08     11-06   127.88068  98    927.0844 222  195.3630 310     212     \n",
       "115 05-30     11-11   170.93003 150    881.1470 223  207.1829 315     165     \n",
       "116 05-23     11-11    41.85173 143    916.6509 220  188.1520 315     172     \n",
       "117 05-22     11-11    32.02429 142    933.4703 223  194.9326 315     173     \n",
       "118 05-23     11-11    40.00018 143    895.2584 223  195.1855 315     172     \n",
       "    BeforeMaxT AfterMaxT GreenUpSlope BrownDownSlope TINDVI   TINDVIBeforeMax\n",
       "109 119        91         5.781142    7.047259       58492.66 55907.66       \n",
       "110  81        91        10.130667    7.456743       44158.56 59340.70       \n",
       "111  81        92        10.539003    7.448807       43987.32 60501.03       \n",
       "112  80        92         9.875476    7.639468       44491.10 55642.50       \n",
       "113  77        93        10.323847    7.700500       43204.46 55314.56       \n",
       "114 124        88         6.445191    8.315016       50461.16 55054.51       \n",
       "115  73        92         9.729000    7.325697       41551.86 53699.65       \n",
       "116  77        95        11.361029    7.668410       42666.17 59301.35       \n",
       "117  81        92        11.128963    8.027583       44039.49 62300.80       \n",
       "118  80        92        10.690727    7.609488       43338.79 56284.69       \n",
       "    TINDVIAfeterMax Assymetry \n",
       "109 114376.99         2584.996\n",
       "110 103428.25       -15182.133\n",
       "111 104404.17       -16513.711\n",
       "112 100089.99       -11151.406\n",
       "113  98479.63       -12110.102\n",
       "114 105481.92        -4593.347\n",
       "115  95233.38       -12147.787\n",
       "116 101894.37       -16635.177\n",
       "117 106258.83       -18261.307\n",
       "118  99545.89       -12945.898"
      ]
     },
     "metadata": {},
     "output_type": "display_data"
    }
   ],
   "source": [
    "crph[1:10,1:ncol(crph)]"
   ]
  },
  {
   "cell_type": "code",
   "execution_count": null,
   "metadata": {},
   "outputs": [],
   "source": []
  }
 ],
 "metadata": {
  "kernelspec": {
   "display_name": "R",
   "language": "R",
   "name": "ir"
  },
  "language_info": {
   "codemirror_mode": "r",
   "file_extension": ".r",
   "mimetype": "text/x-r-source",
   "name": "R",
   "pygments_lexer": "r",
   "version": "3.6.1"
  }
 },
 "nbformat": 4,
 "nbformat_minor": 2
}
